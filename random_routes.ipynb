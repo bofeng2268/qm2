{
  "cells": [
    {
      "cell_type": "markdown",
      "metadata": {
        "id": "view-in-github",
        "colab_type": "text"
      },
      "source": [
        "<a href=\"https://colab.research.google.com/github/bofeng2268/qm2/blob/main/random_routes.ipynb\" target=\"_parent\"><img src=\"https://colab.research.google.com/assets/colab-badge.svg\" alt=\"Open In Colab\"/></a>"
      ]
    },
    {
      "cell_type": "code",
      "execution_count": null,
      "metadata": {
        "colab": {
          "base_uri": "https://localhost:8080/"
        },
        "id": "yXt_dKoZI15J",
        "outputId": "25f63100-dc1e-435b-9629-fb173c301402"
      },
      "outputs": [
        {
          "name": "stdout",
          "output_type": "stream",
          "text": [
            "Requirement already satisfied: tabulate in /usr/local/lib/python3.10/dist-packages (0.9.0)\n"
          ]
        }
      ],
      "source": [
        "!pip install tabulate"
      ]
    },
    {
      "cell_type": "code",
      "execution_count": 19,
      "metadata": {
        "id": "ZYk_SVAStJn0"
      },
      "outputs": [],
      "source": [
        "import random\n",
        "\n",
        "# function to generated a list of 100 random coordinates to use as starting points for routes to Royal London Hospital\n",
        "def generate_random_coordinates(num_points, central_lat_lon, greater_lat_lon):\n",
        "    random_coords = []\n",
        "    while len(random_coords) < num_points:\n",
        "        lat = random.uniform(greater_lat_lon['min_lat'], greater_lat_lon['max_lat'])\n",
        "        lon = random.uniform(greater_lat_lon['min_lon'], greater_lat_lon['max_lon'])\n",
        "\n",
        "        if central_lat_lon['min_lat'] <= lat <= central_lat_lon['max_lat'] and central_lat_lon['min_lon'] <= lon <= central_lat_lon['max_lon']:\n",
        "            continue\n",
        "        random_coords.append((lat, lon))\n",
        "\n",
        "    return random_coords\n",
        "\n",
        "# defined the boundary coordinates for Central London and Greater London\n",
        "central_london = {'min_lat': 51.44, 'max_lat': 51.56, 'min_lon': -0.18, 'max_lon': 0.02}\n",
        "greater_london = {'min_lat': 51.38, 'max_lat': 51.60, 'min_lon': -0.33, 'max_lon': 0.15}\n",
        "\n",
        "# generated list using function\n",
        "random_coordinates = generate_random_coordinates(100, central_london, greater_london)"
      ]
    },
    {
      "cell_type": "code",
      "execution_count": 20,
      "metadata": {
        "colab": {
          "base_uri": "https://localhost:8080/",
          "height": 542
        },
        "id": "cjzhZ7oGxpUL",
        "outputId": "ea951d00-64f2-4e55-f151-d5ce931bdb84"
      },
      "outputs": [
        {
          "output_type": "display_data",
          "data": {
            "text/html": [
              "<html>\n",
              "<head><meta charset=\"utf-8\" /></head>\n",
              "<body>\n",
              "    <div>            <script src=\"https://cdnjs.cloudflare.com/ajax/libs/mathjax/2.7.5/MathJax.js?config=TeX-AMS-MML_SVG\"></script><script type=\"text/javascript\">if (window.MathJax && window.MathJax.Hub && window.MathJax.Hub.Config) {window.MathJax.Hub.Config({SVG: {font: \"STIX-Web\"}});}</script>                <script type=\"text/javascript\">window.PlotlyConfig = {MathJaxConfig: 'local'};</script>\n",
              "        <script charset=\"utf-8\" src=\"https://cdn.plot.ly/plotly-2.24.1.min.js\"></script>                <div id=\"a1bfe32d-68c2-4808-b861-219d40d5c6af\" class=\"plotly-graph-div\" style=\"height:525px; width:100%;\"></div>            <script type=\"text/javascript\">                                    window.PLOTLYENV=window.PLOTLYENV || {};                                    if (document.getElementById(\"a1bfe32d-68c2-4808-b861-219d40d5c6af\")) {                    Plotly.newPlot(                        \"a1bfe32d-68c2-4808-b861-219d40d5c6af\",                        [{\"customdata\":[[-0.02158407014326591],[-0.22775204117425796],[0.04262609258618211],[0.09318587473067008],[-0.19831373393459864],[0.08700220705974215],[-0.1976123503433892],[0.09775814527889981],[0.10049263195503877],[0.07590429328779214],[0.0996317936585282],[0.06065947619405626],[0.07636975987994488],[-0.24699084494840834],[-0.19611561025125396],[-0.015066460247810276],[0.0935130483719096],[-0.22569258564727715],[-0.06837874652276427],[-0.28282842216124754],[0.12354419287343543],[-0.15884218519855273],[-0.09897659251116073],[-0.24698057654631134],[0.02100817018449297],[-0.3293574262518458],[-0.23729044426205115],[-0.05630209394177971],[-0.18886198327876524],[-0.29472921516699185],[-0.18524086260427475],[0.14800700455683335],[-0.1482972897947698],[0.028003954078105464],[0.11671546476983696],[-0.2359757665386712],[-0.3098363535664222],[0.05670166789082581],[-0.17758222274214686],[0.09895472759418905],[-0.23877339376337045],[-0.10735193266957074],[-0.2422347730028731],[0.04215264148001424],[-0.03152274597586047],[-0.22565860865720994],[-0.19089030577230115],[0.09156428890639884],[-0.30192275612282937],[-0.32571737939110407],[-0.1916336420355467],[-0.28809984240096786],[-0.09255053670366198],[-0.13833224725679633],[0.04217338661937886],[-0.13294577604186214],[-0.18952810631080516],[-0.32223875834534177],[-0.3238035484472421],[0.05597169112527817],[-0.013533473542005403],[0.06370973240144906],[-0.3006944803714198],[-0.12470261728127449],[0.07642590822926043],[-0.2959466033031246],[-0.19918302858080936],[0.03883811350763783],[-0.2744727507302996],[-0.3252457812235328],[-0.20674531618837705],[-0.014050437222187018],[-0.323087802310137],[-0.27872487895134135],[-0.022792037590067482],[0.10724953571249285],[0.03628784210977665],[0.09178348408050174],[0.05118918992500665],[-0.18447736318982677],[-0.14182940483054068],[-0.2736340637703297],[-0.2201647989879294],[-0.29343821266333453],[-0.24570280899154423],[-0.2728009450859012],[-0.21512983570508903],[0.022336969436285325],[-0.28631687942092704],[-0.2941114955918347],[-0.037090264271014195],[-0.29548135849786566],[-0.2799584613061614],[0.08255910435600394],[-0.1938377594325369],[-0.21625783041855823],[-0.21885345955409408],[-0.1057558075328967],[-0.013367185213349786],[-0.3128904110342283]],\"hovertemplate\":\"\\u003cb\\u003e%{hovertext}\\u003c\\u002fb\\u003e\\u003cbr\\u003e\\u003cbr\\u003eLatitude=%{lat}\\u003cbr\\u003eLongitude=%{customdata[0]}\\u003cextra\\u003e\\u003c\\u002fextra\\u003e\",\"hovertext\":[51.38576745458905,51.39350931144743,51.5929639598649,51.55034257266594,51.56719683444803,51.45367939813315,51.434043992902545,51.46775156268819,51.493905720357404,51.498163924409546,51.580068310718175,51.4202550160624,51.474252990870234,51.556565736459284,51.426073613099476,51.57893928509753,51.56016026548028,51.41890262664958,51.587164263400645,51.42680653094749,51.46208331202466,51.4345078767485,51.43340044367095,51.39532968404207,51.381573410736635,51.56138433118701,51.489525284816665,51.582823928266706,51.56449471098342,51.51997265723642,51.5108385231175,51.54233356892525,51.4206027097339,51.586453724089544,51.439010637343706,51.391563294948405,51.579691887971876,51.50662774456025,51.39781586390724,51.391583111511295,51.56539924761798,51.584033994989134,51.53654882192689,51.49997534036917,51.588635684404686,51.58431945456288,51.548572391308426,51.41776938977407,51.59485696919017,51.57450613386065,51.54333636329898,51.482094960977754,51.41523466926461,51.59612109776497,51.58665143293374,51.39696406202655,51.545085716616754,51.55765488143375,51.418220008297965,51.42382404273628,51.41936522069351,51.50210937333272,51.417076398702775,51.57214939643499,51.56233482735521,51.48607634671646,51.469863189927175,51.59319218447502,51.48686190606686,51.55599487787274,51.54605237634039,51.56615765789727,51.480705033499135,51.43678225126453,51.40880403946594,51.55729441078498,51.48620300550791,51.397998081019786,51.44694818272495,51.43473828610987,51.40049443758298,51.44342043552025,51.55804123285124,51.48253669473912,51.4727247439991,51.45171401871094,51.48380504442066,51.57245601054854,51.5610270111317,51.55810955460064,51.58350258596087,51.54316514487457,51.54046743712504,51.385870195582,51.44632837881287,51.41991490892489,51.40983779801943,51.56637716717916,51.38407411417754,51.41113599402838],\"lat\":[51.38576745458905,51.39350931144743,51.5929639598649,51.55034257266594,51.56719683444803,51.45367939813315,51.434043992902545,51.46775156268819,51.493905720357404,51.498163924409546,51.580068310718175,51.4202550160624,51.474252990870234,51.556565736459284,51.426073613099476,51.57893928509753,51.56016026548028,51.41890262664958,51.587164263400645,51.42680653094749,51.46208331202466,51.4345078767485,51.43340044367095,51.39532968404207,51.381573410736635,51.56138433118701,51.489525284816665,51.582823928266706,51.56449471098342,51.51997265723642,51.5108385231175,51.54233356892525,51.4206027097339,51.586453724089544,51.439010637343706,51.391563294948405,51.579691887971876,51.50662774456025,51.39781586390724,51.391583111511295,51.56539924761798,51.584033994989134,51.53654882192689,51.49997534036917,51.588635684404686,51.58431945456288,51.548572391308426,51.41776938977407,51.59485696919017,51.57450613386065,51.54333636329898,51.482094960977754,51.41523466926461,51.59612109776497,51.58665143293374,51.39696406202655,51.545085716616754,51.55765488143375,51.418220008297965,51.42382404273628,51.41936522069351,51.50210937333272,51.417076398702775,51.57214939643499,51.56233482735521,51.48607634671646,51.469863189927175,51.59319218447502,51.48686190606686,51.55599487787274,51.54605237634039,51.56615765789727,51.480705033499135,51.43678225126453,51.40880403946594,51.55729441078498,51.48620300550791,51.397998081019786,51.44694818272495,51.43473828610987,51.40049443758298,51.44342043552025,51.55804123285124,51.48253669473912,51.4727247439991,51.45171401871094,51.48380504442066,51.57245601054854,51.5610270111317,51.55810955460064,51.58350258596087,51.54316514487457,51.54046743712504,51.385870195582,51.44632837881287,51.41991490892489,51.40983779801943,51.56637716717916,51.38407411417754,51.41113599402838],\"legendgroup\":\"\",\"lon\":[-0.02158407014326591,-0.22775204117425796,0.04262609258618211,0.09318587473067008,-0.19831373393459864,0.08700220705974215,-0.1976123503433892,0.09775814527889981,0.10049263195503877,0.07590429328779214,0.0996317936585282,0.06065947619405626,0.07636975987994488,-0.24699084494840834,-0.19611561025125396,-0.015066460247810276,0.0935130483719096,-0.22569258564727715,-0.06837874652276427,-0.28282842216124754,0.12354419287343543,-0.15884218519855273,-0.09897659251116073,-0.24698057654631134,0.02100817018449297,-0.3293574262518458,-0.23729044426205115,-0.05630209394177971,-0.18886198327876524,-0.29472921516699185,-0.18524086260427475,0.14800700455683335,-0.1482972897947698,0.028003954078105464,0.11671546476983696,-0.2359757665386712,-0.3098363535664222,0.05670166789082581,-0.17758222274214686,0.09895472759418905,-0.23877339376337045,-0.10735193266957074,-0.2422347730028731,0.04215264148001424,-0.03152274597586047,-0.22565860865720994,-0.19089030577230115,0.09156428890639884,-0.30192275612282937,-0.32571737939110407,-0.1916336420355467,-0.28809984240096786,-0.09255053670366198,-0.13833224725679633,0.04217338661937886,-0.13294577604186214,-0.18952810631080516,-0.32223875834534177,-0.3238035484472421,0.05597169112527817,-0.013533473542005403,0.06370973240144906,-0.3006944803714198,-0.12470261728127449,0.07642590822926043,-0.2959466033031246,-0.19918302858080936,0.03883811350763783,-0.2744727507302996,-0.3252457812235328,-0.20674531618837705,-0.014050437222187018,-0.323087802310137,-0.27872487895134135,-0.022792037590067482,0.10724953571249285,0.03628784210977665,0.09178348408050174,0.05118918992500665,-0.18447736318982677,-0.14182940483054068,-0.2736340637703297,-0.2201647989879294,-0.29343821266333453,-0.24570280899154423,-0.2728009450859012,-0.21512983570508903,0.022336969436285325,-0.28631687942092704,-0.2941114955918347,-0.037090264271014195,-0.29548135849786566,-0.2799584613061614,0.08255910435600394,-0.1938377594325369,-0.21625783041855823,-0.21885345955409408,-0.1057558075328967,-0.013367185213349786,-0.3128904110342283],\"marker\":{\"color\":\"#636efa\"},\"mode\":\"markers\",\"name\":\"\",\"showlegend\":false,\"subplot\":\"mapbox\",\"type\":\"scattermapbox\"},{\"hovertemplate\":\"Latitude=%{lat}\\u003cbr\\u003eLongitude=%{lon}\\u003cextra\\u003e\\u003c\\u002fextra\\u003e\",\"lat\":[51.517327],\"legendgroup\":\"\",\"lon\":[-0.059259],\"marker\":{\"color\":\"red\"},\"mode\":\"markers\",\"name\":\"\",\"showlegend\":false,\"subplot\":\"mapbox\",\"type\":\"scattermapbox\"}],                        {\"template\":{\"data\":{\"histogram2dcontour\":[{\"type\":\"histogram2dcontour\",\"colorbar\":{\"outlinewidth\":0,\"ticks\":\"\"},\"colorscale\":[[0.0,\"#0d0887\"],[0.1111111111111111,\"#46039f\"],[0.2222222222222222,\"#7201a8\"],[0.3333333333333333,\"#9c179e\"],[0.4444444444444444,\"#bd3786\"],[0.5555555555555556,\"#d8576b\"],[0.6666666666666666,\"#ed7953\"],[0.7777777777777778,\"#fb9f3a\"],[0.8888888888888888,\"#fdca26\"],[1.0,\"#f0f921\"]]}],\"choropleth\":[{\"type\":\"choropleth\",\"colorbar\":{\"outlinewidth\":0,\"ticks\":\"\"}}],\"histogram2d\":[{\"type\":\"histogram2d\",\"colorbar\":{\"outlinewidth\":0,\"ticks\":\"\"},\"colorscale\":[[0.0,\"#0d0887\"],[0.1111111111111111,\"#46039f\"],[0.2222222222222222,\"#7201a8\"],[0.3333333333333333,\"#9c179e\"],[0.4444444444444444,\"#bd3786\"],[0.5555555555555556,\"#d8576b\"],[0.6666666666666666,\"#ed7953\"],[0.7777777777777778,\"#fb9f3a\"],[0.8888888888888888,\"#fdca26\"],[1.0,\"#f0f921\"]]}],\"heatmap\":[{\"type\":\"heatmap\",\"colorbar\":{\"outlinewidth\":0,\"ticks\":\"\"},\"colorscale\":[[0.0,\"#0d0887\"],[0.1111111111111111,\"#46039f\"],[0.2222222222222222,\"#7201a8\"],[0.3333333333333333,\"#9c179e\"],[0.4444444444444444,\"#bd3786\"],[0.5555555555555556,\"#d8576b\"],[0.6666666666666666,\"#ed7953\"],[0.7777777777777778,\"#fb9f3a\"],[0.8888888888888888,\"#fdca26\"],[1.0,\"#f0f921\"]]}],\"heatmapgl\":[{\"type\":\"heatmapgl\",\"colorbar\":{\"outlinewidth\":0,\"ticks\":\"\"},\"colorscale\":[[0.0,\"#0d0887\"],[0.1111111111111111,\"#46039f\"],[0.2222222222222222,\"#7201a8\"],[0.3333333333333333,\"#9c179e\"],[0.4444444444444444,\"#bd3786\"],[0.5555555555555556,\"#d8576b\"],[0.6666666666666666,\"#ed7953\"],[0.7777777777777778,\"#fb9f3a\"],[0.8888888888888888,\"#fdca26\"],[1.0,\"#f0f921\"]]}],\"contourcarpet\":[{\"type\":\"contourcarpet\",\"colorbar\":{\"outlinewidth\":0,\"ticks\":\"\"}}],\"contour\":[{\"type\":\"contour\",\"colorbar\":{\"outlinewidth\":0,\"ticks\":\"\"},\"colorscale\":[[0.0,\"#0d0887\"],[0.1111111111111111,\"#46039f\"],[0.2222222222222222,\"#7201a8\"],[0.3333333333333333,\"#9c179e\"],[0.4444444444444444,\"#bd3786\"],[0.5555555555555556,\"#d8576b\"],[0.6666666666666666,\"#ed7953\"],[0.7777777777777778,\"#fb9f3a\"],[0.8888888888888888,\"#fdca26\"],[1.0,\"#f0f921\"]]}],\"surface\":[{\"type\":\"surface\",\"colorbar\":{\"outlinewidth\":0,\"ticks\":\"\"},\"colorscale\":[[0.0,\"#0d0887\"],[0.1111111111111111,\"#46039f\"],[0.2222222222222222,\"#7201a8\"],[0.3333333333333333,\"#9c179e\"],[0.4444444444444444,\"#bd3786\"],[0.5555555555555556,\"#d8576b\"],[0.6666666666666666,\"#ed7953\"],[0.7777777777777778,\"#fb9f3a\"],[0.8888888888888888,\"#fdca26\"],[1.0,\"#f0f921\"]]}],\"mesh3d\":[{\"type\":\"mesh3d\",\"colorbar\":{\"outlinewidth\":0,\"ticks\":\"\"}}],\"scatter\":[{\"fillpattern\":{\"fillmode\":\"overlay\",\"size\":10,\"solidity\":0.2},\"type\":\"scatter\"}],\"parcoords\":[{\"type\":\"parcoords\",\"line\":{\"colorbar\":{\"outlinewidth\":0,\"ticks\":\"\"}}}],\"scatterpolargl\":[{\"type\":\"scatterpolargl\",\"marker\":{\"colorbar\":{\"outlinewidth\":0,\"ticks\":\"\"}}}],\"bar\":[{\"error_x\":{\"color\":\"#2a3f5f\"},\"error_y\":{\"color\":\"#2a3f5f\"},\"marker\":{\"line\":{\"color\":\"#E5ECF6\",\"width\":0.5},\"pattern\":{\"fillmode\":\"overlay\",\"size\":10,\"solidity\":0.2}},\"type\":\"bar\"}],\"scattergeo\":[{\"type\":\"scattergeo\",\"marker\":{\"colorbar\":{\"outlinewidth\":0,\"ticks\":\"\"}}}],\"scatterpolar\":[{\"type\":\"scatterpolar\",\"marker\":{\"colorbar\":{\"outlinewidth\":0,\"ticks\":\"\"}}}],\"histogram\":[{\"marker\":{\"pattern\":{\"fillmode\":\"overlay\",\"size\":10,\"solidity\":0.2}},\"type\":\"histogram\"}],\"scattergl\":[{\"type\":\"scattergl\",\"marker\":{\"colorbar\":{\"outlinewidth\":0,\"ticks\":\"\"}}}],\"scatter3d\":[{\"type\":\"scatter3d\",\"line\":{\"colorbar\":{\"outlinewidth\":0,\"ticks\":\"\"}},\"marker\":{\"colorbar\":{\"outlinewidth\":0,\"ticks\":\"\"}}}],\"scattermapbox\":[{\"type\":\"scattermapbox\",\"marker\":{\"colorbar\":{\"outlinewidth\":0,\"ticks\":\"\"}}}],\"scatterternary\":[{\"type\":\"scatterternary\",\"marker\":{\"colorbar\":{\"outlinewidth\":0,\"ticks\":\"\"}}}],\"scattercarpet\":[{\"type\":\"scattercarpet\",\"marker\":{\"colorbar\":{\"outlinewidth\":0,\"ticks\":\"\"}}}],\"carpet\":[{\"aaxis\":{\"endlinecolor\":\"#2a3f5f\",\"gridcolor\":\"white\",\"linecolor\":\"white\",\"minorgridcolor\":\"white\",\"startlinecolor\":\"#2a3f5f\"},\"baxis\":{\"endlinecolor\":\"#2a3f5f\",\"gridcolor\":\"white\",\"linecolor\":\"white\",\"minorgridcolor\":\"white\",\"startlinecolor\":\"#2a3f5f\"},\"type\":\"carpet\"}],\"table\":[{\"cells\":{\"fill\":{\"color\":\"#EBF0F8\"},\"line\":{\"color\":\"white\"}},\"header\":{\"fill\":{\"color\":\"#C8D4E3\"},\"line\":{\"color\":\"white\"}},\"type\":\"table\"}],\"barpolar\":[{\"marker\":{\"line\":{\"color\":\"#E5ECF6\",\"width\":0.5},\"pattern\":{\"fillmode\":\"overlay\",\"size\":10,\"solidity\":0.2}},\"type\":\"barpolar\"}],\"pie\":[{\"automargin\":true,\"type\":\"pie\"}]},\"layout\":{\"autotypenumbers\":\"strict\",\"colorway\":[\"#636efa\",\"#EF553B\",\"#00cc96\",\"#ab63fa\",\"#FFA15A\",\"#19d3f3\",\"#FF6692\",\"#B6E880\",\"#FF97FF\",\"#FECB52\"],\"font\":{\"color\":\"#2a3f5f\"},\"hovermode\":\"closest\",\"hoverlabel\":{\"align\":\"left\"},\"paper_bgcolor\":\"white\",\"plot_bgcolor\":\"#E5ECF6\",\"polar\":{\"bgcolor\":\"#E5ECF6\",\"angularaxis\":{\"gridcolor\":\"white\",\"linecolor\":\"white\",\"ticks\":\"\"},\"radialaxis\":{\"gridcolor\":\"white\",\"linecolor\":\"white\",\"ticks\":\"\"}},\"ternary\":{\"bgcolor\":\"#E5ECF6\",\"aaxis\":{\"gridcolor\":\"white\",\"linecolor\":\"white\",\"ticks\":\"\"},\"baxis\":{\"gridcolor\":\"white\",\"linecolor\":\"white\",\"ticks\":\"\"},\"caxis\":{\"gridcolor\":\"white\",\"linecolor\":\"white\",\"ticks\":\"\"}},\"coloraxis\":{\"colorbar\":{\"outlinewidth\":0,\"ticks\":\"\"}},\"colorscale\":{\"sequential\":[[0.0,\"#0d0887\"],[0.1111111111111111,\"#46039f\"],[0.2222222222222222,\"#7201a8\"],[0.3333333333333333,\"#9c179e\"],[0.4444444444444444,\"#bd3786\"],[0.5555555555555556,\"#d8576b\"],[0.6666666666666666,\"#ed7953\"],[0.7777777777777778,\"#fb9f3a\"],[0.8888888888888888,\"#fdca26\"],[1.0,\"#f0f921\"]],\"sequentialminus\":[[0.0,\"#0d0887\"],[0.1111111111111111,\"#46039f\"],[0.2222222222222222,\"#7201a8\"],[0.3333333333333333,\"#9c179e\"],[0.4444444444444444,\"#bd3786\"],[0.5555555555555556,\"#d8576b\"],[0.6666666666666666,\"#ed7953\"],[0.7777777777777778,\"#fb9f3a\"],[0.8888888888888888,\"#fdca26\"],[1.0,\"#f0f921\"]],\"diverging\":[[0,\"#8e0152\"],[0.1,\"#c51b7d\"],[0.2,\"#de77ae\"],[0.3,\"#f1b6da\"],[0.4,\"#fde0ef\"],[0.5,\"#f7f7f7\"],[0.6,\"#e6f5d0\"],[0.7,\"#b8e186\"],[0.8,\"#7fbc41\"],[0.9,\"#4d9221\"],[1,\"#276419\"]]},\"xaxis\":{\"gridcolor\":\"white\",\"linecolor\":\"white\",\"ticks\":\"\",\"title\":{\"standoff\":15},\"zerolinecolor\":\"white\",\"automargin\":true,\"zerolinewidth\":2},\"yaxis\":{\"gridcolor\":\"white\",\"linecolor\":\"white\",\"ticks\":\"\",\"title\":{\"standoff\":15},\"zerolinecolor\":\"white\",\"automargin\":true,\"zerolinewidth\":2},\"scene\":{\"xaxis\":{\"backgroundcolor\":\"#E5ECF6\",\"gridcolor\":\"white\",\"linecolor\":\"white\",\"showbackground\":true,\"ticks\":\"\",\"zerolinecolor\":\"white\",\"gridwidth\":2},\"yaxis\":{\"backgroundcolor\":\"#E5ECF6\",\"gridcolor\":\"white\",\"linecolor\":\"white\",\"showbackground\":true,\"ticks\":\"\",\"zerolinecolor\":\"white\",\"gridwidth\":2},\"zaxis\":{\"backgroundcolor\":\"#E5ECF6\",\"gridcolor\":\"white\",\"linecolor\":\"white\",\"showbackground\":true,\"ticks\":\"\",\"zerolinecolor\":\"white\",\"gridwidth\":2}},\"shapedefaults\":{\"line\":{\"color\":\"#2a3f5f\"}},\"annotationdefaults\":{\"arrowcolor\":\"#2a3f5f\",\"arrowhead\":0,\"arrowwidth\":1},\"geo\":{\"bgcolor\":\"white\",\"landcolor\":\"#E5ECF6\",\"subunitcolor\":\"white\",\"showland\":true,\"showlakes\":true,\"lakecolor\":\"white\"},\"title\":{\"x\":0.05},\"mapbox\":{\"style\":\"light\"}}},\"mapbox\":{\"domain\":{\"x\":[0.0,1.0],\"y\":[0.0,1.0]},\"center\":{\"lat\":51.5074,\"lon\":-0.1278},\"zoom\":10,\"style\":\"carto-positron\"},\"legend\":{\"tracegroupgap\":0},\"title\":{\"text\":\"Random Coordinates on Greater London Map\"},\"margin\":{\"r\":0,\"t\":0,\"l\":0,\"b\":0}},                        {\"responsive\": true}                    ).then(function(){\n",
              "                            \n",
              "var gd = document.getElementById('a1bfe32d-68c2-4808-b861-219d40d5c6af');\n",
              "var x = new MutationObserver(function (mutations, observer) {{\n",
              "        var display = window.getComputedStyle(gd).display;\n",
              "        if (!display || display === 'none') {{\n",
              "            console.log([gd, 'removed!']);\n",
              "            Plotly.purge(gd);\n",
              "            observer.disconnect();\n",
              "        }}\n",
              "}});\n",
              "\n",
              "// Listen for the removal of the full notebook cells\n",
              "var notebookContainer = gd.closest('#notebook-container');\n",
              "if (notebookContainer) {{\n",
              "    x.observe(notebookContainer, {childList: true});\n",
              "}}\n",
              "\n",
              "// Listen for the clearing of the current output cell\n",
              "var outputEl = gd.closest('.output');\n",
              "if (outputEl) {{\n",
              "    x.observe(outputEl, {childList: true});\n",
              "}}\n",
              "\n",
              "                        })                };                            </script>        </div>\n",
              "</body>\n",
              "</html>"
            ]
          },
          "metadata": {}
        }
      ],
      "source": [
        "import geopandas as gpd\n",
        "import plotly.express as px\n",
        "import pandas as pd\n",
        "\n",
        "# loading London topojson\n",
        "london_shapefile = gpd.read_file('https://gist.githubusercontent.com/cejast/2cb80a2346b2049ac5d0/raw/c7ea98c7b9204782b6652b29bf3ef3e3b1a187ea/london-topojson.json')\n",
        "\n",
        "# extracting latitude and longitude from the list of coordinates\n",
        "latitudes, longitudes = zip(*random_coordinates)\n",
        "\n",
        "# creating a datframe with extracted coordinates\n",
        "df = pd.DataFrame({'Latitude': latitudes, 'Longitude': longitudes})\n",
        "\n",
        "# creating a scatterplot on a Mapbox\n",
        "fig = px.scatter_mapbox(df, lat='Latitude', lon='Longitude',\n",
        "                        hover_name='Latitude', hover_data=['Longitude'],\n",
        "                        title='Random Coordinates on Greater London Map',\n",
        "                        mapbox_style=\"carto-positron\",\n",
        "                        center={\"lat\": 51.5074, \"lon\": -0.1278},\n",
        "                        zoom=10)\n",
        "\n",
        "fig.update_layout(margin={\"r\":0, \"t\":0, \"l\":0, \"b\":0})\n",
        "\n",
        "# creating a dataframe for the Royal London Hospital coordinates\n",
        "hospital_df = pd.DataFrame({\n",
        "    'Latitude': [51.517327],\n",
        "    'Longitude': [-0.059259]\n",
        "})\n",
        "\n",
        "# adding the hospital location as a separate scatter plot layer\n",
        "fig.add_trace(\n",
        "    px.scatter_mapbox(hospital_df, lat='Latitude', lon='Longitude',\n",
        "                      color_discrete_sequence=['red']).data[0]\n",
        ")\n",
        "\n",
        "fig.show()\n"
      ]
    },
    {
      "cell_type": "code",
      "execution_count": 21,
      "metadata": {
        "colab": {
          "base_uri": "https://localhost:8080/"
        },
        "id": "YR9yoZ1w0tHY",
        "outputId": "3fc82148-951b-43f5-ad89-59f42309b7cd"
      },
      "outputs": [
        {
          "output_type": "stream",
          "name": "stdout",
          "text": [
            "+----+------------------------------------------+-------------------+------------------+-----------------------+----------------------+\n",
            "|    |             Start Coordinate             | Disabled Duration | Disabled Changes | Non-Disabled Duration | Non-Disabled Changes |\n",
            "+----+------------------------------------------+-------------------+------------------+-----------------------+----------------------+\n",
            "| 1  | 51.39350931144743, -0.22775204117425796  |        121        |        4         |          94           |          5           |\n",
            "| 3  |  51.55034257266594, 0.09318587473067008  |        60         |        3         |          57           |          3           |\n",
            "| 6  | 51.434043992902545, -0.1976123503433892  |        79         |        4         |          59           |          3           |\n",
            "| 10 |  51.580068310718175, 0.0996317936585282  |        141        |        6         |          52           |          4           |\n",
            "| 13 | 51.556565736459284, -0.24699084494840834 |        98         |        4         |          59           |          4           |\n",
            "| 14 | 51.426073613099476, -0.19611561025125396 |        79         |        4         |          72           |          5           |\n",
            "| 16 |  51.56016026548028, 0.0935130483719096   |        78         |        3         |          69           |          4           |\n",
            "| 17 | 51.41890262664958, -0.22569258564727715  |        86         |        3         |          83           |          3           |\n",
            "| 18 | 51.587164263400645, -0.06837874652276427 |        70         |        4         |          58           |          4           |\n",
            "| 25 |  51.56138433118701, -0.3293574262518458  |        93         |        4         |          83           |          4           |\n",
            "| 26 | 51.489525284816665, -0.23729044426205115 |        77         |        3         |          74           |          3           |\n",
            "| 27 | 51.582823928266706, -0.05630209394177971 |        76         |        4         |          66           |          6           |\n",
            "| 29 | 51.51997265723642, -0.29472921516699185  |        80         |        3         |          74           |          4           |\n",
            "| 31 |  51.54233356892525, 0.14800700455683335  |        43         |        3         |          41           |          3           |\n",
            "| 36 | 51.579691887971876, -0.3098363535664222  |        97         |        4         |          67           |          4           |\n",
            "| 38 | 51.39781586390724, -0.17758222274214686  |        103        |        4         |          76           |          5           |\n",
            "| 40 | 51.56539924761798, -0.23877339376337045  |        105        |        4         |          79           |          4           |\n",
            "| 41 | 51.584033994989134, -0.10735193266957074 |        86         |        4         |          63           |          7           |\n",
            "| 44 | 51.588635684404686, -0.03152274597586047 |        89         |        4         |          59           |          4           |\n",
            "| 45 | 51.58431945456288, -0.22565860865720994  |        66         |        4         |          55           |          5           |\n",
            "| 48 | 51.59485696919017, -0.30192275612282937  |        94         |        5         |          80           |          5           |\n",
            "| 49 | 51.57450613386065, -0.32571737939110407  |        84         |        4         |          69           |          4           |\n",
            "| 51 | 51.482094960977754, -0.28809984240096786 |        69         |        3         |          67           |          3           |\n",
            "| 57 | 51.55765488143375, -0.32223875834534177  |        98         |        4         |          83           |          4           |\n",
            "| 63 | 51.57214939643499, -0.12470261728127449  |        77         |        4         |          60           |          5           |\n",
            "| 64 |  51.56233482735521, 0.07642590822926043  |        87         |        3         |          63           |          4           |\n",
            "| 65 |  51.48607634671646, -0.2959466033031246  |        92         |        3         |          79           |          3           |\n",
            "| 66 | 51.469863189927175, -0.19918302858080936 |        73         |        4         |          57           |          3           |\n",
            "| 68 |  51.48686190606686, -0.2744727507302996  |        94         |        3         |          65           |          3           |\n",
            "| 69 |  51.55599487787274, -0.3252457812235328  |        90         |        4         |          82           |          4           |\n",
            "| 71 | 51.56615765789727, -0.014050437222187018 |        113        |        1         |          43           |          4           |\n",
            "| 72 |  51.480705033499135, -0.323087802310137  |        123        |        3         |          102          |          4           |\n",
            "| 73 | 51.43678225126453, -0.27872487895134135  |        124        |        3         |          122          |          3           |\n",
            "| 75 |  51.55729441078498, 0.10724953571249285  |        76         |        3         |          74           |          3           |\n",
            "| 79 | 51.43473828610987, -0.18447736318982677  |        96         |        3         |          68           |          5           |\n",
            "| 81 |  51.44342043552025, -0.2736340637703297  |        117        |        3         |          114          |          3           |\n",
            "| 83 | 51.48253669473912, -0.29343821266333453  |        72         |        3         |          70           |          3           |\n",
            "| 84 |  51.4727247439991, -0.24570280899154423  |        92         |        3         |          89           |          3           |\n",
            "| 85 |  51.45171401871094, -0.2728009450859012  |        116        |        3         |          113          |          3           |\n",
            "| 86 | 51.48380504442066, -0.21512983570508903  |        70         |        3         |          66           |          3           |\n",
            "| 88 |  51.5610270111317, -0.28631687942092704  |        64         |        4         |          61           |          4           |\n",
            "| 89 |  51.55810955460064, -0.2941114955918347  |        74         |        4         |          70           |          4           |\n",
            "| 90 | 51.58350258596087, -0.037090264271014195 |        87         |        4         |          56           |          4           |\n",
            "| 91 | 51.54316514487457, -0.29548135849786566  |        101        |        4         |          74           |          4           |\n",
            "| 92 |  51.54046743712504, -0.2799584613061614  |        107        |        4         |          71           |          5           |\n",
            "| 94 |  51.44632837881287, -0.1938377594325369  |        72         |        3         |          70           |          3           |\n",
            "| 95 | 51.41991490892489, -0.21625783041855823  |        75         |        3         |          72           |          3           |\n",
            "| 96 | 51.40983779801943, -0.21885345955409408  |        89         |        4         |          80           |          5           |\n",
            "| 97 |  51.56637716717916, -0.1057558075328967  |        54         |        4         |          45           |          6           |\n",
            "+----+------------------------------------------+-------------------+------------------+-----------------------+----------------------+\n"
          ]
        }
      ],
      "source": [
        "import requests\n",
        "import json\n",
        "import pandas as pd\n",
        "import random\n",
        "from tabulate import tabulate\n",
        "\n",
        "#function to parse json responses of TFL API requests\n",
        "def parse_journey_data(journey_data):\n",
        "    if 'journeys' not in journey_data or not journey_data['journeys']: # requests had some missing data depending on the routes, so checking and giving None output when necessary\n",
        "        return None, None\n",
        "\n",
        "    shortest_duration = min(journey_data['journeys'], key=lambda x: x['duration'])['duration'] #finding minimum duration\n",
        "    shortest_journey = next(j for j in journey_data['journeys'] if j['duration'] == shortest_duration) #finds journey that has thee shortest duration that we previously found\n",
        "    transport_changes = len(shortest_journey['legs']) #number of times one has to change transport during journey called \"legs\"\n",
        "\n",
        "    return shortest_duration, transport_changes\n",
        "\n",
        "# dataframe to store journey data for disabled and non-disabled people for each route\n",
        "journey_data_df = pd.DataFrame(columns=['Start Coordinate', 'Disabled Duration', 'Disabled Changes',\n",
        "                                        'Non-Disabled Duration', 'Non-Disabled Changes'])\n",
        "\n",
        "api_key = 'd963cc094f604b6bbb599c4602b8d3a7' #could also import it from private file, but is fine as i used it only for the purpose of this code, not confidential\n",
        "\n",
        "for start_point in random_coordinates:\n",
        "\n",
        "    start_point = f\"{start_point[0]}, {start_point[1]}\"  #respective random points coordinates\n",
        "    end_point = '51.517327, -0.059259'  #Royal London Hospital coordinates\n",
        "    url = f'https://api.tfl.gov.uk/Journey/JourneyResults/{start_point}/to/{end_point}'\n",
        "\n",
        "    headers = {\n",
        "        'app_key': api_key,\n",
        "    }\n",
        "\n",
        "    # request parameters for a disabled person with full step-free access and only using tube\n",
        "    params_disabled = {\n",
        "        'accessibilityPreference': 'StepFreeToVehicle,StepFreeToPlatform',\n",
        "        'mode': 'tube'\n",
        "    }\n",
        "\n",
        "    # request parameters for a non-disabled person using only tube\n",
        "    params_non_disabled = {\n",
        "        'mode': 'tube'\n",
        "    }\n",
        "\n",
        "    response_disabled = requests.get(url, headers=headers, params=params_disabled)\n",
        "    journey_disabled = response_disabled.json()\n",
        "\n",
        "    response_non_disabled = requests.get(url, headers=headers, params=params_non_disabled)\n",
        "    journey_non_disabled = response_non_disabled.json()\n",
        "\n",
        "    shortest_duration_disabled, transport_changes_disabled = parse_journey_data(journey_disabled)# disabled journey data (duration and trasport changes)\n",
        "    shortest_duration_non_disabled, transport_changes_non_disabled = parse_journey_data(journey_non_disabled) # non-disabled journey data (duration and trasport changes)\n",
        "\n",
        "    new_row = pd.DataFrame([{\n",
        "    'Start Coordinate': start_point,\n",
        "    'Disabled Duration': shortest_duration_disabled,\n",
        "    'Disabled Changes': transport_changes_disabled,\n",
        "    'Non-Disabled Duration': shortest_duration_non_disabled,\n",
        "    'Non-Disabled Changes': transport_changes_non_disabled\n",
        "    }])\n",
        "    journey_data_df = pd.concat([journey_data_df, new_row], ignore_index=True) #adding new row with respective columns for each jouney to the dataframe\n",
        "\n",
        "journey_data_df = journey_data_df.dropna() # dropping rows that have None values\n",
        "\n",
        "print(tabulate(journey_data_df, headers='keys', tablefmt='pretty')) #printing for visualisation\n",
        "\n"
      ]
    }
  ],
  "metadata": {
    "colab": {
      "provenance": [],
      "authorship_tag": "ABX9TyNkiu1WN5PHA7FPGK2PH9Aw",
      "include_colab_link": true
    },
    "kernelspec": {
      "display_name": "Python 3",
      "name": "python3"
    },
    "language_info": {
      "name": "python"
    }
  },
  "nbformat": 4,
  "nbformat_minor": 0
}
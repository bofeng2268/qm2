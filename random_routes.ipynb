{
  "cells": [
    {
      "cell_type": "markdown",
      "metadata": {
        "id": "view-in-github",
        "colab_type": "text"
      },
      "source": [
        "<a href=\"https://colab.research.google.com/github/bofeng2268/qm2/blob/main/random_routes.ipynb\" target=\"_parent\"><img src=\"https://colab.research.google.com/assets/colab-badge.svg\" alt=\"Open In Colab\"/></a>"
      ]
    },
    {
      "cell_type": "code",
      "execution_count": null,
      "metadata": {
        "colab": {
          "base_uri": "https://localhost:8080/"
        },
        "id": "yXt_dKoZI15J",
        "outputId": "25f63100-dc1e-435b-9629-fb173c301402"
      },
      "outputs": [
        {
          "name": "stdout",
          "output_type": "stream",
          "text": [
            "Requirement already satisfied: tabulate in /usr/local/lib/python3.10/dist-packages (0.9.0)\n"
          ]
        }
      ],
      "source": [
        "!pip install tabulate"
      ]
    },
    {
      "cell_type": "code",
      "execution_count": 15,
      "metadata": {
        "id": "ZYk_SVAStJn0"
      },
      "outputs": [],
      "source": [
        "import random\n",
        "\n",
        "def generate_random_coordinates(num_points, central_lat_lon, greater_lat_lon):\n",
        "    random_coords = []\n",
        "    while len(random_coords) < num_points:\n",
        "        lat = random.uniform(greater_lat_lon['min_lat'], greater_lat_lon['max_lat'])\n",
        "        lon = random.uniform(greater_lat_lon['min_lon'], greater_lat_lon['max_lon'])\n",
        "\n",
        "        if central_lat_lon['min_lat'] <= lat <= central_lat_lon['max_lat'] and central_lat_lon['min_lon'] <= lon <= central_lat_lon['max_lon']:\n",
        "            continue\n",
        "        random_coords.append((lat, lon))\n",
        "\n",
        "    return random_coords\n",
        "\n",
        "# Define the boundary coordinates for Central London and Greater London\n",
        "central_london = {'min_lat': 51.44, 'max_lat': 51.56, 'min_lon': -0.18, 'max_lon': 0.02}\n",
        "greater_london = {'min_lat': 51.38, 'max_lat': 51.60, 'min_lon': -0.33, 'max_lon': 0.15}\n",
        "\n",
        "# Generate 30 random coordinates\n",
        "random_coordinates = generate_random_coordinates(100, central_london, greater_london)"
      ]
    },
    {
      "cell_type": "code",
      "execution_count": 16,
      "metadata": {
        "colab": {
          "base_uri": "https://localhost:8080/",
          "height": 542
        },
        "id": "cjzhZ7oGxpUL",
        "outputId": "40f2144c-4f3f-47e7-d3c6-b8d18480a33f"
      },
      "outputs": [
        {
          "output_type": "display_data",
          "data": {
            "text/html": [
              "<html>\n",
              "<head><meta charset=\"utf-8\" /></head>\n",
              "<body>\n",
              "    <div>            <script src=\"https://cdnjs.cloudflare.com/ajax/libs/mathjax/2.7.5/MathJax.js?config=TeX-AMS-MML_SVG\"></script><script type=\"text/javascript\">if (window.MathJax && window.MathJax.Hub && window.MathJax.Hub.Config) {window.MathJax.Hub.Config({SVG: {font: \"STIX-Web\"}});}</script>                <script type=\"text/javascript\">window.PlotlyConfig = {MathJaxConfig: 'local'};</script>\n",
              "        <script charset=\"utf-8\" src=\"https://cdn.plot.ly/plotly-2.24.1.min.js\"></script>                <div id=\"bb3cb2fe-907e-4b00-9a55-69632db31004\" class=\"plotly-graph-div\" style=\"height:525px; width:100%;\"></div>            <script type=\"text/javascript\">                                    window.PLOTLYENV=window.PLOTLYENV || {};                                    if (document.getElementById(\"bb3cb2fe-907e-4b00-9a55-69632db31004\")) {                    Plotly.newPlot(                        \"bb3cb2fe-907e-4b00-9a55-69632db31004\",                        [{\"customdata\":[[-0.21967085148317603],[0.10656822623758022],[-0.21627942199636252],[-0.3206240398297346],[-0.3093015025227099],[-0.3026717652370314],[0.1390830354066872],[0.05001418085182968],[0.11354527815082233],[0.06808953836490661],[-0.09235423757915201],[0.13332675918655634],[-0.20973811617845056],[-0.08797906699226413],[-0.2840500321438766],[-0.32525971649683366],[-0.02452255575006196],[-0.029805941708138772],[0.08940803850336121],[-0.22554308924807154],[-0.15305940870603338],[-0.1502093414525749],[0.08954838576943175],[0.06442368829364353],[-0.30649080694933944],[0.13694134317872814],[-0.25770431617183837],[-0.0009034412194547925],[0.03434015148699743],[-0.1993139429467571],[-0.26158494907469476],[0.09900047572393406],[-0.23182546189130557],[-0.29193573313767196],[-0.2660039721529009],[-0.23927933907283855],[-0.20354669435542616],[0.10536595658227021],[0.06992283481363198],[-0.3131626966102588],[-0.3033428172088978],[0.05990934273490178],[-0.28670778114560025],[-0.014070105528620591],[0.05709832050023367],[-0.05354275666197683],[-0.2056275728977409],[-0.20283241224289178],[-0.044163821666230785],[-0.22686930956390963],[-0.30431595289785013],[0.05964353551156382],[0.06270114924388459],[-0.2945903826150815],[-0.21668143645642163],[0.07126809949660146],[-0.23332424314603922],[0.14156802230186238],[-0.16555656764739568],[0.026892952849424945],[-0.1911700146944515],[0.14812086030836752],[-0.24853534647423564],[0.041968668070279935],[-0.3172165856970779],[0.09702511037660572],[-0.26994174791912173],[-0.12711289199776418],[0.06835269489423101],[-0.20749686229172076],[-0.2743709880495245],[0.04530632138592594],[-0.019754509149680022],[0.028653843293771686],[0.05007440367267019],[0.022294095592954144],[0.13639482419332694],[-0.3121905570263861],[0.0728928652780857],[-0.1819959828157499],[-0.30348750444838085],[-0.28775733767847794],[0.05324111837943246],[0.05957136979598082],[-0.03041894331074374],[-0.0006254171331259717],[0.11652822791289125],[-0.013591056480579511],[-0.09469348727923887],[-0.31766528835559643],[0.08979973323923118],[0.04816510827025655],[-0.21229777221130558],[-0.28451337526575093],[0.11346424162323748],[-0.326208875703964],[-0.30950536524909883],[-0.2855432179837742],[-0.3041733584682252],[-0.03851961158413303]],\"hovertemplate\":\"\\u003cb\\u003e%{hovertext}\\u003c\\u002fb\\u003e\\u003cbr\\u003e\\u003cbr\\u003eLatitude=%{lat}\\u003cbr\\u003eLongitude=%{customdata[0]}\\u003cextra\\u003e\\u003c\\u002fextra\\u003e\",\"hovertext\":[51.48977821352961,51.449097440481836,51.59402554560936,51.55746910576471,51.4787414736171,51.529298529864214,51.46847395030453,51.50200206910982,51.506121305096826,51.54576049739211,51.40476957873613,51.57634454569409,51.41383594061478,51.59609243850388,51.49890854074917,51.46582954452673,51.41093042264136,51.589734686062755,51.432747356782734,51.45028326260667,51.57474840883128,51.569755404027944,51.39305710638481,51.575656333346686,51.454581568407114,51.55184654199901,51.38336400195806,51.40677907628047,51.5649895947081,51.567267990733754,51.522107714942024,51.424966994357995,51.445021660374714,51.45218942102206,51.38314553928843,51.557732741606586,51.432542332388934,51.56942068370205,51.44164852513345,51.49648926338512,51.42002368265745,51.525018638231934,51.3810108759332,51.40096116346028,51.41137393195539,51.394311959657955,51.536950190192144,51.42438563941648,51.43526239874408,51.40486534003049,51.55349197146788,51.59435774013693,51.47833261851419,51.59653646675842,51.48054891645978,51.452840352104154,51.54477850239603,51.41088569252131,51.415836606351064,51.47743266684528,51.52695521630231,51.44373505650622,51.49274636977734,51.46578512703747,51.49113480800992,51.53703257534028,51.50387316123356,51.38879366303035,51.45323964799121,51.436779597789986,51.476131282513556,51.516820888546434,51.416729285354165,51.54092944265637,51.420910838766076,51.449732436730486,51.563980203156945,51.59512011067275,51.531244554271325,51.39504793005868,51.58064739880998,51.43237003881713,51.562891011385204,51.532102650336846,51.4148305698915,51.561751056795735,51.53827916769861,51.59346400749186,51.59887864383711,51.54445804047218,51.44235666663605,51.45444031338084,51.38629577337354,51.55108179085623,51.435264485675965,51.42496530651834,51.50098113386402,51.447519350680345,51.40398777733991,51.40449721578088],\"lat\":[51.48977821352961,51.449097440481836,51.59402554560936,51.55746910576471,51.4787414736171,51.529298529864214,51.46847395030453,51.50200206910982,51.506121305096826,51.54576049739211,51.40476957873613,51.57634454569409,51.41383594061478,51.59609243850388,51.49890854074917,51.46582954452673,51.41093042264136,51.589734686062755,51.432747356782734,51.45028326260667,51.57474840883128,51.569755404027944,51.39305710638481,51.575656333346686,51.454581568407114,51.55184654199901,51.38336400195806,51.40677907628047,51.5649895947081,51.567267990733754,51.522107714942024,51.424966994357995,51.445021660374714,51.45218942102206,51.38314553928843,51.557732741606586,51.432542332388934,51.56942068370205,51.44164852513345,51.49648926338512,51.42002368265745,51.525018638231934,51.3810108759332,51.40096116346028,51.41137393195539,51.394311959657955,51.536950190192144,51.42438563941648,51.43526239874408,51.40486534003049,51.55349197146788,51.59435774013693,51.47833261851419,51.59653646675842,51.48054891645978,51.452840352104154,51.54477850239603,51.41088569252131,51.415836606351064,51.47743266684528,51.52695521630231,51.44373505650622,51.49274636977734,51.46578512703747,51.49113480800992,51.53703257534028,51.50387316123356,51.38879366303035,51.45323964799121,51.436779597789986,51.476131282513556,51.516820888546434,51.416729285354165,51.54092944265637,51.420910838766076,51.449732436730486,51.563980203156945,51.59512011067275,51.531244554271325,51.39504793005868,51.58064739880998,51.43237003881713,51.562891011385204,51.532102650336846,51.4148305698915,51.561751056795735,51.53827916769861,51.59346400749186,51.59887864383711,51.54445804047218,51.44235666663605,51.45444031338084,51.38629577337354,51.55108179085623,51.435264485675965,51.42496530651834,51.50098113386402,51.447519350680345,51.40398777733991,51.40449721578088],\"legendgroup\":\"\",\"lon\":[-0.21967085148317603,0.10656822623758022,-0.21627942199636252,-0.3206240398297346,-0.3093015025227099,-0.3026717652370314,0.1390830354066872,0.05001418085182968,0.11354527815082233,0.06808953836490661,-0.09235423757915201,0.13332675918655634,-0.20973811617845056,-0.08797906699226413,-0.2840500321438766,-0.32525971649683366,-0.02452255575006196,-0.029805941708138772,0.08940803850336121,-0.22554308924807154,-0.15305940870603338,-0.1502093414525749,0.08954838576943175,0.06442368829364353,-0.30649080694933944,0.13694134317872814,-0.25770431617183837,-0.0009034412194547925,0.03434015148699743,-0.1993139429467571,-0.26158494907469476,0.09900047572393406,-0.23182546189130557,-0.29193573313767196,-0.2660039721529009,-0.23927933907283855,-0.20354669435542616,0.10536595658227021,0.06992283481363198,-0.3131626966102588,-0.3033428172088978,0.05990934273490178,-0.28670778114560025,-0.014070105528620591,0.05709832050023367,-0.05354275666197683,-0.2056275728977409,-0.20283241224289178,-0.044163821666230785,-0.22686930956390963,-0.30431595289785013,0.05964353551156382,0.06270114924388459,-0.2945903826150815,-0.21668143645642163,0.07126809949660146,-0.23332424314603922,0.14156802230186238,-0.16555656764739568,0.026892952849424945,-0.1911700146944515,0.14812086030836752,-0.24853534647423564,0.041968668070279935,-0.3172165856970779,0.09702511037660572,-0.26994174791912173,-0.12711289199776418,0.06835269489423101,-0.20749686229172076,-0.2743709880495245,0.04530632138592594,-0.019754509149680022,0.028653843293771686,0.05007440367267019,0.022294095592954144,0.13639482419332694,-0.3121905570263861,0.0728928652780857,-0.1819959828157499,-0.30348750444838085,-0.28775733767847794,0.05324111837943246,0.05957136979598082,-0.03041894331074374,-0.0006254171331259717,0.11652822791289125,-0.013591056480579511,-0.09469348727923887,-0.31766528835559643,0.08979973323923118,0.04816510827025655,-0.21229777221130558,-0.28451337526575093,0.11346424162323748,-0.326208875703964,-0.30950536524909883,-0.2855432179837742,-0.3041733584682252,-0.03851961158413303],\"marker\":{\"color\":\"#636efa\"},\"mode\":\"markers\",\"name\":\"\",\"showlegend\":false,\"subplot\":\"mapbox\",\"type\":\"scattermapbox\"},{\"hovertemplate\":\"Latitude=%{lat}\\u003cbr\\u003eLongitude=%{lon}\\u003cextra\\u003e\\u003c\\u002fextra\\u003e\",\"lat\":[51.517327],\"legendgroup\":\"\",\"lon\":[-0.059259],\"marker\":{\"color\":\"red\"},\"mode\":\"markers\",\"name\":\"\",\"showlegend\":false,\"subplot\":\"mapbox\",\"type\":\"scattermapbox\"}],                        {\"template\":{\"data\":{\"histogram2dcontour\":[{\"type\":\"histogram2dcontour\",\"colorbar\":{\"outlinewidth\":0,\"ticks\":\"\"},\"colorscale\":[[0.0,\"#0d0887\"],[0.1111111111111111,\"#46039f\"],[0.2222222222222222,\"#7201a8\"],[0.3333333333333333,\"#9c179e\"],[0.4444444444444444,\"#bd3786\"],[0.5555555555555556,\"#d8576b\"],[0.6666666666666666,\"#ed7953\"],[0.7777777777777778,\"#fb9f3a\"],[0.8888888888888888,\"#fdca26\"],[1.0,\"#f0f921\"]]}],\"choropleth\":[{\"type\":\"choropleth\",\"colorbar\":{\"outlinewidth\":0,\"ticks\":\"\"}}],\"histogram2d\":[{\"type\":\"histogram2d\",\"colorbar\":{\"outlinewidth\":0,\"ticks\":\"\"},\"colorscale\":[[0.0,\"#0d0887\"],[0.1111111111111111,\"#46039f\"],[0.2222222222222222,\"#7201a8\"],[0.3333333333333333,\"#9c179e\"],[0.4444444444444444,\"#bd3786\"],[0.5555555555555556,\"#d8576b\"],[0.6666666666666666,\"#ed7953\"],[0.7777777777777778,\"#fb9f3a\"],[0.8888888888888888,\"#fdca26\"],[1.0,\"#f0f921\"]]}],\"heatmap\":[{\"type\":\"heatmap\",\"colorbar\":{\"outlinewidth\":0,\"ticks\":\"\"},\"colorscale\":[[0.0,\"#0d0887\"],[0.1111111111111111,\"#46039f\"],[0.2222222222222222,\"#7201a8\"],[0.3333333333333333,\"#9c179e\"],[0.4444444444444444,\"#bd3786\"],[0.5555555555555556,\"#d8576b\"],[0.6666666666666666,\"#ed7953\"],[0.7777777777777778,\"#fb9f3a\"],[0.8888888888888888,\"#fdca26\"],[1.0,\"#f0f921\"]]}],\"heatmapgl\":[{\"type\":\"heatmapgl\",\"colorbar\":{\"outlinewidth\":0,\"ticks\":\"\"},\"colorscale\":[[0.0,\"#0d0887\"],[0.1111111111111111,\"#46039f\"],[0.2222222222222222,\"#7201a8\"],[0.3333333333333333,\"#9c179e\"],[0.4444444444444444,\"#bd3786\"],[0.5555555555555556,\"#d8576b\"],[0.6666666666666666,\"#ed7953\"],[0.7777777777777778,\"#fb9f3a\"],[0.8888888888888888,\"#fdca26\"],[1.0,\"#f0f921\"]]}],\"contourcarpet\":[{\"type\":\"contourcarpet\",\"colorbar\":{\"outlinewidth\":0,\"ticks\":\"\"}}],\"contour\":[{\"type\":\"contour\",\"colorbar\":{\"outlinewidth\":0,\"ticks\":\"\"},\"colorscale\":[[0.0,\"#0d0887\"],[0.1111111111111111,\"#46039f\"],[0.2222222222222222,\"#7201a8\"],[0.3333333333333333,\"#9c179e\"],[0.4444444444444444,\"#bd3786\"],[0.5555555555555556,\"#d8576b\"],[0.6666666666666666,\"#ed7953\"],[0.7777777777777778,\"#fb9f3a\"],[0.8888888888888888,\"#fdca26\"],[1.0,\"#f0f921\"]]}],\"surface\":[{\"type\":\"surface\",\"colorbar\":{\"outlinewidth\":0,\"ticks\":\"\"},\"colorscale\":[[0.0,\"#0d0887\"],[0.1111111111111111,\"#46039f\"],[0.2222222222222222,\"#7201a8\"],[0.3333333333333333,\"#9c179e\"],[0.4444444444444444,\"#bd3786\"],[0.5555555555555556,\"#d8576b\"],[0.6666666666666666,\"#ed7953\"],[0.7777777777777778,\"#fb9f3a\"],[0.8888888888888888,\"#fdca26\"],[1.0,\"#f0f921\"]]}],\"mesh3d\":[{\"type\":\"mesh3d\",\"colorbar\":{\"outlinewidth\":0,\"ticks\":\"\"}}],\"scatter\":[{\"fillpattern\":{\"fillmode\":\"overlay\",\"size\":10,\"solidity\":0.2},\"type\":\"scatter\"}],\"parcoords\":[{\"type\":\"parcoords\",\"line\":{\"colorbar\":{\"outlinewidth\":0,\"ticks\":\"\"}}}],\"scatterpolargl\":[{\"type\":\"scatterpolargl\",\"marker\":{\"colorbar\":{\"outlinewidth\":0,\"ticks\":\"\"}}}],\"bar\":[{\"error_x\":{\"color\":\"#2a3f5f\"},\"error_y\":{\"color\":\"#2a3f5f\"},\"marker\":{\"line\":{\"color\":\"#E5ECF6\",\"width\":0.5},\"pattern\":{\"fillmode\":\"overlay\",\"size\":10,\"solidity\":0.2}},\"type\":\"bar\"}],\"scattergeo\":[{\"type\":\"scattergeo\",\"marker\":{\"colorbar\":{\"outlinewidth\":0,\"ticks\":\"\"}}}],\"scatterpolar\":[{\"type\":\"scatterpolar\",\"marker\":{\"colorbar\":{\"outlinewidth\":0,\"ticks\":\"\"}}}],\"histogram\":[{\"marker\":{\"pattern\":{\"fillmode\":\"overlay\",\"size\":10,\"solidity\":0.2}},\"type\":\"histogram\"}],\"scattergl\":[{\"type\":\"scattergl\",\"marker\":{\"colorbar\":{\"outlinewidth\":0,\"ticks\":\"\"}}}],\"scatter3d\":[{\"type\":\"scatter3d\",\"line\":{\"colorbar\":{\"outlinewidth\":0,\"ticks\":\"\"}},\"marker\":{\"colorbar\":{\"outlinewidth\":0,\"ticks\":\"\"}}}],\"scattermapbox\":[{\"type\":\"scattermapbox\",\"marker\":{\"colorbar\":{\"outlinewidth\":0,\"ticks\":\"\"}}}],\"scatterternary\":[{\"type\":\"scatterternary\",\"marker\":{\"colorbar\":{\"outlinewidth\":0,\"ticks\":\"\"}}}],\"scattercarpet\":[{\"type\":\"scattercarpet\",\"marker\":{\"colorbar\":{\"outlinewidth\":0,\"ticks\":\"\"}}}],\"carpet\":[{\"aaxis\":{\"endlinecolor\":\"#2a3f5f\",\"gridcolor\":\"white\",\"linecolor\":\"white\",\"minorgridcolor\":\"white\",\"startlinecolor\":\"#2a3f5f\"},\"baxis\":{\"endlinecolor\":\"#2a3f5f\",\"gridcolor\":\"white\",\"linecolor\":\"white\",\"minorgridcolor\":\"white\",\"startlinecolor\":\"#2a3f5f\"},\"type\":\"carpet\"}],\"table\":[{\"cells\":{\"fill\":{\"color\":\"#EBF0F8\"},\"line\":{\"color\":\"white\"}},\"header\":{\"fill\":{\"color\":\"#C8D4E3\"},\"line\":{\"color\":\"white\"}},\"type\":\"table\"}],\"barpolar\":[{\"marker\":{\"line\":{\"color\":\"#E5ECF6\",\"width\":0.5},\"pattern\":{\"fillmode\":\"overlay\",\"size\":10,\"solidity\":0.2}},\"type\":\"barpolar\"}],\"pie\":[{\"automargin\":true,\"type\":\"pie\"}]},\"layout\":{\"autotypenumbers\":\"strict\",\"colorway\":[\"#636efa\",\"#EF553B\",\"#00cc96\",\"#ab63fa\",\"#FFA15A\",\"#19d3f3\",\"#FF6692\",\"#B6E880\",\"#FF97FF\",\"#FECB52\"],\"font\":{\"color\":\"#2a3f5f\"},\"hovermode\":\"closest\",\"hoverlabel\":{\"align\":\"left\"},\"paper_bgcolor\":\"white\",\"plot_bgcolor\":\"#E5ECF6\",\"polar\":{\"bgcolor\":\"#E5ECF6\",\"angularaxis\":{\"gridcolor\":\"white\",\"linecolor\":\"white\",\"ticks\":\"\"},\"radialaxis\":{\"gridcolor\":\"white\",\"linecolor\":\"white\",\"ticks\":\"\"}},\"ternary\":{\"bgcolor\":\"#E5ECF6\",\"aaxis\":{\"gridcolor\":\"white\",\"linecolor\":\"white\",\"ticks\":\"\"},\"baxis\":{\"gridcolor\":\"white\",\"linecolor\":\"white\",\"ticks\":\"\"},\"caxis\":{\"gridcolor\":\"white\",\"linecolor\":\"white\",\"ticks\":\"\"}},\"coloraxis\":{\"colorbar\":{\"outlinewidth\":0,\"ticks\":\"\"}},\"colorscale\":{\"sequential\":[[0.0,\"#0d0887\"],[0.1111111111111111,\"#46039f\"],[0.2222222222222222,\"#7201a8\"],[0.3333333333333333,\"#9c179e\"],[0.4444444444444444,\"#bd3786\"],[0.5555555555555556,\"#d8576b\"],[0.6666666666666666,\"#ed7953\"],[0.7777777777777778,\"#fb9f3a\"],[0.8888888888888888,\"#fdca26\"],[1.0,\"#f0f921\"]],\"sequentialminus\":[[0.0,\"#0d0887\"],[0.1111111111111111,\"#46039f\"],[0.2222222222222222,\"#7201a8\"],[0.3333333333333333,\"#9c179e\"],[0.4444444444444444,\"#bd3786\"],[0.5555555555555556,\"#d8576b\"],[0.6666666666666666,\"#ed7953\"],[0.7777777777777778,\"#fb9f3a\"],[0.8888888888888888,\"#fdca26\"],[1.0,\"#f0f921\"]],\"diverging\":[[0,\"#8e0152\"],[0.1,\"#c51b7d\"],[0.2,\"#de77ae\"],[0.3,\"#f1b6da\"],[0.4,\"#fde0ef\"],[0.5,\"#f7f7f7\"],[0.6,\"#e6f5d0\"],[0.7,\"#b8e186\"],[0.8,\"#7fbc41\"],[0.9,\"#4d9221\"],[1,\"#276419\"]]},\"xaxis\":{\"gridcolor\":\"white\",\"linecolor\":\"white\",\"ticks\":\"\",\"title\":{\"standoff\":15},\"zerolinecolor\":\"white\",\"automargin\":true,\"zerolinewidth\":2},\"yaxis\":{\"gridcolor\":\"white\",\"linecolor\":\"white\",\"ticks\":\"\",\"title\":{\"standoff\":15},\"zerolinecolor\":\"white\",\"automargin\":true,\"zerolinewidth\":2},\"scene\":{\"xaxis\":{\"backgroundcolor\":\"#E5ECF6\",\"gridcolor\":\"white\",\"linecolor\":\"white\",\"showbackground\":true,\"ticks\":\"\",\"zerolinecolor\":\"white\",\"gridwidth\":2},\"yaxis\":{\"backgroundcolor\":\"#E5ECF6\",\"gridcolor\":\"white\",\"linecolor\":\"white\",\"showbackground\":true,\"ticks\":\"\",\"zerolinecolor\":\"white\",\"gridwidth\":2},\"zaxis\":{\"backgroundcolor\":\"#E5ECF6\",\"gridcolor\":\"white\",\"linecolor\":\"white\",\"showbackground\":true,\"ticks\":\"\",\"zerolinecolor\":\"white\",\"gridwidth\":2}},\"shapedefaults\":{\"line\":{\"color\":\"#2a3f5f\"}},\"annotationdefaults\":{\"arrowcolor\":\"#2a3f5f\",\"arrowhead\":0,\"arrowwidth\":1},\"geo\":{\"bgcolor\":\"white\",\"landcolor\":\"#E5ECF6\",\"subunitcolor\":\"white\",\"showland\":true,\"showlakes\":true,\"lakecolor\":\"white\"},\"title\":{\"x\":0.05},\"mapbox\":{\"style\":\"light\"}}},\"mapbox\":{\"domain\":{\"x\":[0.0,1.0],\"y\":[0.0,1.0]},\"center\":{\"lat\":51.5074,\"lon\":-0.1278},\"zoom\":10,\"style\":\"carto-positron\"},\"legend\":{\"tracegroupgap\":0},\"title\":{\"text\":\"Random Coordinates on Greater London Map\"},\"margin\":{\"r\":0,\"t\":0,\"l\":0,\"b\":0}},                        {\"responsive\": true}                    ).then(function(){\n",
              "                            \n",
              "var gd = document.getElementById('bb3cb2fe-907e-4b00-9a55-69632db31004');\n",
              "var x = new MutationObserver(function (mutations, observer) {{\n",
              "        var display = window.getComputedStyle(gd).display;\n",
              "        if (!display || display === 'none') {{\n",
              "            console.log([gd, 'removed!']);\n",
              "            Plotly.purge(gd);\n",
              "            observer.disconnect();\n",
              "        }}\n",
              "}});\n",
              "\n",
              "// Listen for the removal of the full notebook cells\n",
              "var notebookContainer = gd.closest('#notebook-container');\n",
              "if (notebookContainer) {{\n",
              "    x.observe(notebookContainer, {childList: true});\n",
              "}}\n",
              "\n",
              "// Listen for the clearing of the current output cell\n",
              "var outputEl = gd.closest('.output');\n",
              "if (outputEl) {{\n",
              "    x.observe(outputEl, {childList: true});\n",
              "}}\n",
              "\n",
              "                        })                };                            </script>        </div>\n",
              "</body>\n",
              "</html>"
            ]
          },
          "metadata": {}
        }
      ],
      "source": [
        "import geopandas as gpd\n",
        "import plotly.express as px\n",
        "import pandas as pd\n",
        "\n",
        "# Load the Greater London shapefile\n",
        "london_shapefile = gpd.read_file('https://gist.githubusercontent.com/cejast/2cb80a2346b2049ac5d0/raw/c7ea98c7b9204782b6652b29bf3ef3e3b1a187ea/london-topojson.json')\n",
        "\n",
        "# Extract latitude and longitude from the list of coordinates\n",
        "latitudes, longitudes = zip(*random_coordinates)\n",
        "\n",
        "# Create a DataFrame from the coordinates\n",
        "df = pd.DataFrame({'Latitude': latitudes, 'Longitude': longitudes})\n",
        "\n",
        "# Create a scatterplot on a Mapbox map\n",
        "fig = px.scatter_mapbox(df, lat='Latitude', lon='Longitude',\n",
        "                        hover_name='Latitude', hover_data=['Longitude'],\n",
        "                        title='Random Coordinates on Greater London Map',\n",
        "                        mapbox_style=\"carto-positron\",\n",
        "                        center={\"lat\": 51.5074, \"lon\": -0.1278},\n",
        "                        zoom=10)\n",
        "\n",
        "# Customize the map as needed\n",
        "fig.update_layout(margin={\"r\":0, \"t\":0, \"l\":0, \"b\":0})\n",
        "\n",
        "# Create a DataFrame for the Royal London Hospital coordinates\n",
        "hospital_df = pd.DataFrame({\n",
        "    'Latitude': [51.517327],\n",
        "    'Longitude': [-0.059259]\n",
        "})\n",
        "\n",
        "# Add the hospital location as a separate scatter plot layer\n",
        "fig.add_trace(\n",
        "    px.scatter_mapbox(hospital_df, lat='Latitude', lon='Longitude',\n",
        "                      color_discrete_sequence=['red']).data[0]\n",
        ")\n",
        "\n",
        "# Show the updated map\n",
        "fig.show()\n"
      ]
    },
    {
      "cell_type": "code",
      "execution_count": 17,
      "metadata": {
        "colab": {
          "base_uri": "https://localhost:8080/"
        },
        "id": "YR9yoZ1w0tHY",
        "outputId": "7cbad726-a92b-4d61-cd0b-5f9547c565f9"
      },
      "outputs": [
        {
          "output_type": "stream",
          "name": "stdout",
          "text": [
            "+----+--------------------------------------------+-------------------+------------------+-----------------------+----------------------+\n",
            "|    |              Start Coordinate              | Disabled Duration | Disabled Changes | Non-Disabled Duration | Non-Disabled Changes |\n",
            "+----+--------------------------------------------+-------------------+------------------+-----------------------+----------------------+\n",
            "| 0  |  51.48977821352961, -0.21967085148317603   |        60         |        3         |          56           |          3           |\n",
            "| 2  |  51.59402554560936, -0.21627942199636252   |        90         |        4         |          79           |          5           |\n",
            "| 3  |   51.55746910576471, -0.3206240398297346   |        99         |        4         |          81           |          4           |\n",
            "| 4  |   51.4787414736171, -0.3093015025227099    |        120        |        3         |          104          |          4           |\n",
            "| 5  |  51.529298529864214, -0.3026717652370314   |        96         |        3         |          72           |          4           |\n",
            "| 9  |   51.54576049739211, 0.06808953836490661   |        58         |        3         |          54           |          3           |\n",
            "| 11 |   51.57634454569409, 0.13332675918655634   |        186        |        6         |          97           |          4           |\n",
            "| 12 |  51.41383594061478, -0.20973811617845056   |        77         |        3         |          71           |          5           |\n",
            "| 13 |  51.59609243850388, -0.08797906699226413   |        96         |        4         |          73           |          5           |\n",
            "| 14 |   51.49890854074917, -0.2840500321438766   |        69         |        3         |          64           |          4           |\n",
            "| 15 |  51.46582954452673, -0.32525971649683366   |        98         |        3         |          113          |          4           |\n",
            "| 17 | 51.589734686062755, -0.029805941708138772  |        93         |        4         |          61           |          4           |\n",
            "| 19 |  51.45028326260667, -0.22554308924807154   |        86         |        3         |          81           |          4           |\n",
            "| 23 |  51.575656333346686, 0.06442368829364353   |        155        |        6         |          37           |          4           |\n",
            "| 24 |  51.454581568407114, -0.30649080694933944  |        84         |        3         |          80           |          3           |\n",
            "| 25 |   51.55184654199901, 0.13694134317872814   |        66         |        3         |          64           |          3           |\n",
            "| 32 |  51.445021660374714, -0.23182546189130557  |        93         |        3         |          90           |          3           |\n",
            "| 33 |  51.45218942102206, -0.29193573313767196   |        89         |        3         |          87           |          3           |\n",
            "| 36 |  51.432542332388934, -0.20354669435542616  |        83         |        4         |          62           |          3           |\n",
            "| 37 |   51.56942068370205, 0.10536595658227021   |        150        |        6         |          61           |          4           |\n",
            "| 39 |   51.49648926338512, -0.3131626966102588   |        100        |        3         |          68           |          4           |\n",
            "| 41 |  51.525018638231934, 0.05990934273490178   |        63         |        3         |          59           |          3           |\n",
            "| 47 |  51.42438563941648, -0.20283241224289178   |        69         |        3         |          66           |          3           |\n",
            "| 49 |  51.40486534003049, -0.22686930956390963   |        106        |        3         |          87           |          5           |\n",
            "| 50 |  51.55349197146788, -0.30431595289785013   |        94         |        4         |          79           |          4           |\n",
            "| 51 |   51.59435774013693, 0.05964353551156382   |        185        |        6         |          72           |          4           |\n",
            "| 53 |   51.59653646675842, -0.2945903826150815   |        88         |        5         |          75           |          5           |\n",
            "| 54 |  51.48054891645978, -0.21668143645642163   |        71         |        3         |          67           |          3           |\n",
            "| 58 |  51.415836606351064, -0.16555656764739568  |        121        |        4         |          66           |          5           |\n",
            "| 62 |  51.49274636977734, -0.24853534647423564   |        76         |        3         |          56           |          3           |\n",
            "| 64 |   51.49113480800992, -0.3172165856970779   |        110        |        3         |          73           |          4           |\n",
            "| 65 |   51.53703257534028, 0.09702511037660572   |        49         |        3         |          47           |          3           |\n",
            "| 66 |  51.50387316123356, -0.26994174791912173   |        74         |        3         |          68           |          4           |\n",
            "| 69 |  51.436779597789986, -0.20749686229172076  |        73         |        3         |          69           |          3           |\n",
            "| 70 |  51.476131282513556, -0.2743709880495245   |        83         |        3         |          108          |          3           |\n",
            "| 71 |  51.516820888546434, 0.04530632138592594   |        119        |        1         |          65           |          3           |\n",
            "| 73 |  51.54092944265637, 0.028653843293771686   |        64         |        3         |          44           |          3           |\n",
            "| 76 |  51.563980203156945, 0.13639482419332694   |        95         |        3         |          86           |          3           |\n",
            "| 77 |   51.59512011067275, -0.3121905570263861   |        104        |        5         |          92           |          4           |\n",
            "| 78 |   51.531244554271325, 0.0728928652780857   |        60         |        3         |          52           |          3           |\n",
            "| 79 |   51.39504793005868, -0.1819959828157499   |        98         |        4         |          71           |          5           |\n",
            "| 80 |  51.58064739880998, -0.30348750444838085   |        94         |        5         |          75           |          4           |\n",
            "| 81 |  51.43237003881713, -0.28775733767847794   |        122        |        3         |          119          |          3           |\n",
            "| 82 |  51.562891011385204, 0.05324111837943246   |        82         |        3         |          64           |          4           |\n",
            "| 83 |  51.532102650336846, 0.05957136979598082   |        50         |        3         |          46           |          3           |\n",
            "| 85 | 51.561751056795735, -0.0006254171331259717 |        80         |        4         |          37           |          4           |\n",
            "| 86 |   51.53827916769861, 0.11652822791289125   |        57         |        3         |          52           |          3           |\n",
            "| 88 |  51.59887864383711, -0.09469348727923887   |        121        |        4         |          66           |          5           |\n",
            "| 89 |  51.54445804047218, -0.31766528835559643   |        121        |        4         |          78           |          4           |\n",
            "| 92 |  51.38629577337354, -0.21229777221130558   |        112        |        4         |          85           |          5           |\n",
            "| 93 |  51.55108179085623, -0.28451337526575093   |        79         |        4         |          76           |          4           |\n",
            "| 96 |  51.50098113386402, -0.30950536524909883   |        93         |        3         |          67           |          4           |\n",
            "| 97 |  51.447519350680345, -0.2855432179837742   |        102        |        3         |          100          |          3           |\n",
            "+----+--------------------------------------------+-------------------+------------------+-----------------------+----------------------+\n"
          ]
        }
      ],
      "source": [
        "import requests\n",
        "import json\n",
        "import pandas as pd\n",
        "import random\n",
        "from tabulate import tabulate\n",
        "\n",
        "def parse_journey_data(journey_data):\n",
        "    # Check if 'journeys' key is in the response\n",
        "    if 'journeys' not in journey_data or not journey_data['journeys']:\n",
        "        return None, None\n",
        "\n",
        "    shortest_duration = min(journey_data['journeys'], key=lambda x: x['duration'])['duration']\n",
        "    shortest_journey = next(j for j in journey_data['journeys'] if j['duration'] == shortest_duration)\n",
        "    transport_changes = len(shortest_journey['legs'])\n",
        "\n",
        "    return shortest_duration, transport_changes\n",
        "\n",
        "# DataFrame to store journey data\n",
        "journey_data_df = pd.DataFrame(columns=['Start Coordinate', 'Disabled Duration', 'Disabled Changes',\n",
        "                                        'Non-Disabled Duration', 'Non-Disabled Changes'])\n",
        "# Generate 50 random coordinates\n",
        "\n",
        "api_key = 'd963cc094f604b6bbb599c4602b8d3a7'\n",
        "\n",
        "for start_point in random_coordinates:\n",
        "\n",
        "    start_point = f\"{start_point[0]}, {start_point[1]}\"  #random point\n",
        "    end_point = '51.517327, -0.059259'  #royal hospital\n",
        "    url = f'https://api.tfl.gov.uk/Journey/JourneyResults/{start_point}/to/{end_point}'\n",
        "\n",
        "    # Define headers to include the API key\n",
        "    headers = {\n",
        "        'app_key': api_key,\n",
        "    }\n",
        "\n",
        "    # Make the request for a disabled person with full step-free access and tube preference\n",
        "    params_disabled = {\n",
        "        'accessibilityPreference': 'StepFreeToVehicle,StepFreeToPlatform',\n",
        "        'mode': 'tube'\n",
        "    }\n",
        "\n",
        "    # Make the request for a non-disabled person with tube preference\n",
        "    params_non_disabled = {\n",
        "        'mode': 'tube'\n",
        "    }\n",
        "\n",
        "    response_disabled = requests.get(url, headers=headers, params=params_disabled)\n",
        "    journey_disabled = response_disabled.json()\n",
        "\n",
        "    response_non_disabled = requests.get(url, headers=headers, params=params_non_disabled)\n",
        "    journey_non_disabled = response_non_disabled.json()\n",
        "\n",
        "    shortest_duration_disabled, transport_changes_disabled = parse_journey_data(journey_disabled)\n",
        "    shortest_duration_non_disabled, transport_changes_non_disabled = parse_journey_data(journey_non_disabled)\n",
        "\n",
        "    new_row = pd.DataFrame([{\n",
        "    'Start Coordinate': start_point,\n",
        "    'Disabled Duration': shortest_duration_disabled,\n",
        "    'Disabled Changes': transport_changes_disabled,\n",
        "    'Non-Disabled Duration': shortest_duration_non_disabled,\n",
        "    'Non-Disabled Changes': transport_changes_non_disabled\n",
        "    }])\n",
        "    journey_data_df = pd.concat([journey_data_df, new_row], ignore_index=True)\n",
        "\n",
        "# Replace None values with a specific placeholder (e.g., 'N/A')\n",
        "\n",
        "journey_data_df = journey_data_df.dropna()\n",
        "print(tabulate(journey_data_df, headers='keys', tablefmt='pretty'))\n",
        "\n"
      ]
    }
  ],
  "metadata": {
    "colab": {
      "provenance": [],
      "authorship_tag": "ABX9TyOhsPk3xa+aqb4ctMK6YUEx",
      "include_colab_link": true
    },
    "kernelspec": {
      "display_name": "Python 3",
      "name": "python3"
    },
    "language_info": {
      "name": "python"
    }
  },
  "nbformat": 4,
  "nbformat_minor": 0
}
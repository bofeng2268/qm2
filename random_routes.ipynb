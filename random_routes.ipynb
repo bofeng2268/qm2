{
  "nbformat": 4,
  "nbformat_minor": 0,
  "metadata": {
    "colab": {
      "provenance": [],
      "authorship_tag": "ABX9TyOMFVfND5mD6WHoPZLEuXef",
      "include_colab_link": true
    },
    "kernelspec": {
      "name": "python3",
      "display_name": "Python 3"
    },
    "language_info": {
      "name": "python"
    }
  },
  "cells": [
    {
      "cell_type": "markdown",
      "metadata": {
        "id": "view-in-github",
        "colab_type": "text"
      },
      "source": [
        "<a href=\"https://colab.research.google.com/github/bofeng2268/qm2/blob/main/random_routes.ipynb\" target=\"_parent\"><img src=\"https://colab.research.google.com/assets/colab-badge.svg\" alt=\"Open In Colab\"/></a>"
      ]
    },
    {
      "cell_type": "code",
      "source": [
        "!pip install tabulate"
      ],
      "metadata": {
        "colab": {
          "base_uri": "https://localhost:8080/"
        },
        "id": "yXt_dKoZI15J",
        "outputId": "1702559d-0953-4ebd-ed58-51d740565538"
      },
      "execution_count": 148,
      "outputs": [
        {
          "output_type": "stream",
          "name": "stdout",
          "text": [
            "Requirement already satisfied: tabulate in /usr/local/lib/python3.10/dist-packages (0.9.0)\n"
          ]
        }
      ]
    },
    {
      "cell_type": "code",
      "source": [
        "import random\n",
        "\n",
        "def generate_random_coordinates(num_points, central_lat_lon, greater_lat_lon):\n",
        "    random_coords = []\n",
        "    while len(random_coords) < num_points:\n",
        "        lat = random.uniform(greater_lat_lon['min_lat'], greater_lat_lon['max_lat'])\n",
        "        lon = random.uniform(greater_lat_lon['min_lon'], greater_lat_lon['max_lon'])\n",
        "\n",
        "        if central_lat_lon['min_lat'] <= lat <= central_lat_lon['max_lat'] and central_lat_lon['min_lon'] <= lon <= central_lat_lon['max_lon']:\n",
        "            continue\n",
        "        random_coords.append((lat, lon))\n",
        "\n",
        "    return random_coords\n",
        "\n",
        "# Define the boundary coordinates for Central London and Greater London\n",
        "central_london = {'min_lat': 51.44, 'max_lat': 51.56, 'min_lon': -0.18, 'max_lon': 0.02}\n",
        "greater_london = {'min_lat': 51.38, 'max_lat': 51.60, 'min_lon': -0.33, 'max_lon': 0.15}\n",
        "\n",
        "# Generate 30 random coordinates\n",
        "random_coordinates = generate_random_coordinates(100, central_london, greater_london)"
      ],
      "metadata": {
        "id": "ZYk_SVAStJn0"
      },
      "execution_count": 157,
      "outputs": []
    },
    {
      "cell_type": "code",
      "source": [
        "import geopandas as gpd\n",
        "import plotly.express as px\n",
        "import pandas as pd\n",
        "\n",
        "# Load the Greater London shapefile\n",
        "london_shapefile = gpd.read_file('https://gist.githubusercontent.com/cejast/2cb80a2346b2049ac5d0/raw/c7ea98c7b9204782b6652b29bf3ef3e3b1a187ea/london-topojson.json')\n",
        "\n",
        "# Extract latitude and longitude from the list of coordinates\n",
        "latitudes, longitudes = zip(*random_coordinates)\n",
        "\n",
        "# Create a DataFrame from the coordinates\n",
        "df = pd.DataFrame({'Latitude': latitudes, 'Longitude': longitudes})\n",
        "\n",
        "# Create a scatterplot on a Mapbox map\n",
        "fig = px.scatter_mapbox(df, lat='Latitude', lon='Longitude',\n",
        "                        hover_name='Latitude', hover_data=['Longitude'],\n",
        "                        title='Random Coordinates on Greater London Map',\n",
        "                        mapbox_style=\"carto-positron\",\n",
        "                        center={\"lat\": 51.5074, \"lon\": -0.1278},\n",
        "                        zoom=10)\n",
        "\n",
        "# Customize the map as needed\n",
        "fig.update_layout(margin={\"r\":0, \"t\":0, \"l\":0, \"b\":0})\n",
        "# Show the map\n",
        "fig.show()\n"
      ],
      "metadata": {
        "colab": {
          "base_uri": "https://localhost:8080/",
          "height": 542
        },
        "id": "cjzhZ7oGxpUL",
        "outputId": "3931fdac-aab1-41e4-b65f-aec4fe3c0d90"
      },
      "execution_count": 158,
      "outputs": [
        {
          "output_type": "display_data",
          "data": {
            "text/html": [
              "<html>\n",
              "<head><meta charset=\"utf-8\" /></head>\n",
              "<body>\n",
              "    <div>            <script src=\"https://cdnjs.cloudflare.com/ajax/libs/mathjax/2.7.5/MathJax.js?config=TeX-AMS-MML_SVG\"></script><script type=\"text/javascript\">if (window.MathJax && window.MathJax.Hub && window.MathJax.Hub.Config) {window.MathJax.Hub.Config({SVG: {font: \"STIX-Web\"}});}</script>                <script type=\"text/javascript\">window.PlotlyConfig = {MathJaxConfig: 'local'};</script>\n",
              "        <script charset=\"utf-8\" src=\"https://cdn.plot.ly/plotly-2.24.1.min.js\"></script>                <div id=\"d2a91237-0944-4760-8557-2c120ae81b3d\" class=\"plotly-graph-div\" style=\"height:525px; width:100%;\"></div>            <script type=\"text/javascript\">                                    window.PLOTLYENV=window.PLOTLYENV || {};                                    if (document.getElementById(\"d2a91237-0944-4760-8557-2c120ae81b3d\")) {                    Plotly.newPlot(                        \"d2a91237-0944-4760-8557-2c120ae81b3d\",                        [{\"customdata\":[[0.00390182144658785],[-0.16678005011357064],[-0.22974098501212067],[-0.1271191106858671],[-0.2874715855782733],[-0.2026307725954527],[0.03049199440862338],[0.0921575077062487],[-0.20508471409134993],[0.06360519696852684],[-0.11780566386695038],[-0.31323504758358817],[-0.2681783274806081],[-0.20802793198623137],[0.10575311665564557],[-0.2163822859483801],[-0.24688241418485746],[-0.119647235525986],[-0.1103833486284704],[-0.028243440497656647],[0.11784321545561022],[-0.20578302066941176],[0.08270678758681066],[0.03245572984324946],[-0.20596228944971967],[0.1448044695707642],[0.142748641208906],[-0.20559429187980355],[-0.005034365898456072],[0.041048100510254704],[-0.31094486546125544],[-0.27253467200035875],[-0.20743692930655225],[0.13301585284750883],[-0.08933983629273307],[0.11462557356460062],[-0.27328083505196327],[-0.23385893207796732],[-0.015567314539358001],[-0.01544538864635836],[-0.2832657086205984],[-0.2453730076242458],[0.14137170846518815],[-0.2181374733239254],[0.06550249382668794],[-0.21944420118128946],[-0.24523122856057922],[-0.17953164430366722],[-0.266826044030138],[-0.14167836463765576],[-0.27319687190232556],[-0.3159527532892088],[-0.23903886203824773],[0.10623006342056496],[-0.2310388170174215],[-0.1412750313055655],[0.028559787085194133],[0.02292325366530551],[0.05954990001445326],[0.015622685498407174],[-0.17437777840203741],[-0.3159480626800345],[-0.3212772443867083],[-0.31801624488067076],[-0.21050266653227348],[-0.03615263009181868],[-0.2944693717609754],[0.04949946548540107],[-0.23023848109600892],[-0.12047720372071963],[-0.025818494917212553],[0.10756709063010778],[0.026566067922467906],[-0.17172156956692552],[0.05705564874466884],[-0.307078866168494],[0.03555591572701916],[0.08612960382354323],[-0.04057901085195159],[-0.10591392033404029],[-0.12615548767063287],[0.06278624223156348],[0.06239100847643697],[-0.2350539814977063],[0.08342109352283505],[0.12538608361069986],[0.09416856281584385],[-0.09378589310359375],[0.04382628866528088],[0.05771488864216118],[-0.007779163172745074],[-0.23079281291643455],[-0.2504843278015757],[0.015571915611996667],[-0.2306666473343999],[-0.07075968778718467],[-0.23560477034448],[-0.28678967628072377],[-0.32015225289456334],[0.13674525729793102]],\"hovertemplate\":\"\\u003cb\\u003e%{hovertext}\\u003c\\u002fb\\u003e\\u003cbr\\u003e\\u003cbr\\u003eLatitude=%{lat}\\u003cbr\\u003eLongitude=%{customdata[0]}\\u003cextra\\u003e\\u003c\\u002fextra\\u003e\",\"hovertext\":[51.380081513140816,51.58898760308353,51.49869066292579,51.40280663504881,51.595707298913815,51.58217751386228,51.51370487106405,51.44233527028109,51.517602085866294,51.51526799336162,51.56005458143361,51.51169019259631,51.4811617821297,51.55176922601886,51.39751050574499,51.463545310289724,51.4427027399955,51.58721285630391,51.4063023638361,51.435191676090696,51.58950748766145,51.575425946585675,51.56756292273875,51.53287962037225,51.52372377414042,51.56695751033443,51.50706712242621,51.53655271939377,51.40773058999998,51.44117792056475,51.384781939910546,51.38556754158204,51.44395109237756,51.44165229670174,51.58440837292035,51.50947608065003,51.451424232498105,51.43515991806726,51.57679662924106,51.394784086131004,51.587651664645975,51.455970913295225,51.47177756326095,51.438653990024946,51.57189985036393,51.58247182462841,51.473940840395244,51.57664767859141,51.43210401838451,51.59733019816657,51.42002174251756,51.38626434589142,51.54740902541623,51.4922240198029,51.589748624248514,51.58277164546171,51.508882906666116,51.52327997767621,51.56139253910133,51.398874847895506,51.43905245452928,51.51593641330208,51.38302125695797,51.487951798661925,51.4573160937548,51.413463934764735,51.56478531524188,51.558008054600286,51.4639848770207,51.57619180897039,51.40785298965168,51.38943564545274,51.51711952536382,51.5603111759283,51.53110510868599,51.509179496969026,51.44231078520516,51.46198587086227,51.56764642127864,51.390557061895656,51.41375740179095,51.38836491216828,51.45865044613832,51.54176994276327,51.57665201646427,51.40950401357057,51.43708457342677,51.40193965906473,51.480357818548384,51.42390048636042,51.39428865840453,51.55207220822069,51.52542153021173,51.571255728511304,51.469273900093775,51.410807908441065,51.515785527875124,51.439249320308306,51.56104831057567,51.38616295664289],\"lat\":[51.380081513140816,51.58898760308353,51.49869066292579,51.40280663504881,51.595707298913815,51.58217751386228,51.51370487106405,51.44233527028109,51.517602085866294,51.51526799336162,51.56005458143361,51.51169019259631,51.4811617821297,51.55176922601886,51.39751050574499,51.463545310289724,51.4427027399955,51.58721285630391,51.4063023638361,51.435191676090696,51.58950748766145,51.575425946585675,51.56756292273875,51.53287962037225,51.52372377414042,51.56695751033443,51.50706712242621,51.53655271939377,51.40773058999998,51.44117792056475,51.384781939910546,51.38556754158204,51.44395109237756,51.44165229670174,51.58440837292035,51.50947608065003,51.451424232498105,51.43515991806726,51.57679662924106,51.394784086131004,51.587651664645975,51.455970913295225,51.47177756326095,51.438653990024946,51.57189985036393,51.58247182462841,51.473940840395244,51.57664767859141,51.43210401838451,51.59733019816657,51.42002174251756,51.38626434589142,51.54740902541623,51.4922240198029,51.589748624248514,51.58277164546171,51.508882906666116,51.52327997767621,51.56139253910133,51.398874847895506,51.43905245452928,51.51593641330208,51.38302125695797,51.487951798661925,51.4573160937548,51.413463934764735,51.56478531524188,51.558008054600286,51.4639848770207,51.57619180897039,51.40785298965168,51.38943564545274,51.51711952536382,51.5603111759283,51.53110510868599,51.509179496969026,51.44231078520516,51.46198587086227,51.56764642127864,51.390557061895656,51.41375740179095,51.38836491216828,51.45865044613832,51.54176994276327,51.57665201646427,51.40950401357057,51.43708457342677,51.40193965906473,51.480357818548384,51.42390048636042,51.39428865840453,51.55207220822069,51.52542153021173,51.571255728511304,51.469273900093775,51.410807908441065,51.515785527875124,51.439249320308306,51.56104831057567,51.38616295664289],\"legendgroup\":\"\",\"lon\":[0.00390182144658785,-0.16678005011357064,-0.22974098501212067,-0.1271191106858671,-0.2874715855782733,-0.2026307725954527,0.03049199440862338,0.0921575077062487,-0.20508471409134993,0.06360519696852684,-0.11780566386695038,-0.31323504758358817,-0.2681783274806081,-0.20802793198623137,0.10575311665564557,-0.2163822859483801,-0.24688241418485746,-0.119647235525986,-0.1103833486284704,-0.028243440497656647,0.11784321545561022,-0.20578302066941176,0.08270678758681066,0.03245572984324946,-0.20596228944971967,0.1448044695707642,0.142748641208906,-0.20559429187980355,-0.005034365898456072,0.041048100510254704,-0.31094486546125544,-0.27253467200035875,-0.20743692930655225,0.13301585284750883,-0.08933983629273307,0.11462557356460062,-0.27328083505196327,-0.23385893207796732,-0.015567314539358001,-0.01544538864635836,-0.2832657086205984,-0.2453730076242458,0.14137170846518815,-0.2181374733239254,0.06550249382668794,-0.21944420118128946,-0.24523122856057922,-0.17953164430366722,-0.266826044030138,-0.14167836463765576,-0.27319687190232556,-0.3159527532892088,-0.23903886203824773,0.10623006342056496,-0.2310388170174215,-0.1412750313055655,0.028559787085194133,0.02292325366530551,0.05954990001445326,0.015622685498407174,-0.17437777840203741,-0.3159480626800345,-0.3212772443867083,-0.31801624488067076,-0.21050266653227348,-0.03615263009181868,-0.2944693717609754,0.04949946548540107,-0.23023848109600892,-0.12047720372071963,-0.025818494917212553,0.10756709063010778,0.026566067922467906,-0.17172156956692552,0.05705564874466884,-0.307078866168494,0.03555591572701916,0.08612960382354323,-0.04057901085195159,-0.10591392033404029,-0.12615548767063287,0.06278624223156348,0.06239100847643697,-0.2350539814977063,0.08342109352283505,0.12538608361069986,0.09416856281584385,-0.09378589310359375,0.04382628866528088,0.05771488864216118,-0.007779163172745074,-0.23079281291643455,-0.2504843278015757,0.015571915611996667,-0.2306666473343999,-0.07075968778718467,-0.23560477034448,-0.28678967628072377,-0.32015225289456334,0.13674525729793102],\"marker\":{\"color\":\"#636efa\"},\"mode\":\"markers\",\"name\":\"\",\"showlegend\":false,\"subplot\":\"mapbox\",\"type\":\"scattermapbox\"}],                        {\"template\":{\"data\":{\"histogram2dcontour\":[{\"type\":\"histogram2dcontour\",\"colorbar\":{\"outlinewidth\":0,\"ticks\":\"\"},\"colorscale\":[[0.0,\"#0d0887\"],[0.1111111111111111,\"#46039f\"],[0.2222222222222222,\"#7201a8\"],[0.3333333333333333,\"#9c179e\"],[0.4444444444444444,\"#bd3786\"],[0.5555555555555556,\"#d8576b\"],[0.6666666666666666,\"#ed7953\"],[0.7777777777777778,\"#fb9f3a\"],[0.8888888888888888,\"#fdca26\"],[1.0,\"#f0f921\"]]}],\"choropleth\":[{\"type\":\"choropleth\",\"colorbar\":{\"outlinewidth\":0,\"ticks\":\"\"}}],\"histogram2d\":[{\"type\":\"histogram2d\",\"colorbar\":{\"outlinewidth\":0,\"ticks\":\"\"},\"colorscale\":[[0.0,\"#0d0887\"],[0.1111111111111111,\"#46039f\"],[0.2222222222222222,\"#7201a8\"],[0.3333333333333333,\"#9c179e\"],[0.4444444444444444,\"#bd3786\"],[0.5555555555555556,\"#d8576b\"],[0.6666666666666666,\"#ed7953\"],[0.7777777777777778,\"#fb9f3a\"],[0.8888888888888888,\"#fdca26\"],[1.0,\"#f0f921\"]]}],\"heatmap\":[{\"type\":\"heatmap\",\"colorbar\":{\"outlinewidth\":0,\"ticks\":\"\"},\"colorscale\":[[0.0,\"#0d0887\"],[0.1111111111111111,\"#46039f\"],[0.2222222222222222,\"#7201a8\"],[0.3333333333333333,\"#9c179e\"],[0.4444444444444444,\"#bd3786\"],[0.5555555555555556,\"#d8576b\"],[0.6666666666666666,\"#ed7953\"],[0.7777777777777778,\"#fb9f3a\"],[0.8888888888888888,\"#fdca26\"],[1.0,\"#f0f921\"]]}],\"heatmapgl\":[{\"type\":\"heatmapgl\",\"colorbar\":{\"outlinewidth\":0,\"ticks\":\"\"},\"colorscale\":[[0.0,\"#0d0887\"],[0.1111111111111111,\"#46039f\"],[0.2222222222222222,\"#7201a8\"],[0.3333333333333333,\"#9c179e\"],[0.4444444444444444,\"#bd3786\"],[0.5555555555555556,\"#d8576b\"],[0.6666666666666666,\"#ed7953\"],[0.7777777777777778,\"#fb9f3a\"],[0.8888888888888888,\"#fdca26\"],[1.0,\"#f0f921\"]]}],\"contourcarpet\":[{\"type\":\"contourcarpet\",\"colorbar\":{\"outlinewidth\":0,\"ticks\":\"\"}}],\"contour\":[{\"type\":\"contour\",\"colorbar\":{\"outlinewidth\":0,\"ticks\":\"\"},\"colorscale\":[[0.0,\"#0d0887\"],[0.1111111111111111,\"#46039f\"],[0.2222222222222222,\"#7201a8\"],[0.3333333333333333,\"#9c179e\"],[0.4444444444444444,\"#bd3786\"],[0.5555555555555556,\"#d8576b\"],[0.6666666666666666,\"#ed7953\"],[0.7777777777777778,\"#fb9f3a\"],[0.8888888888888888,\"#fdca26\"],[1.0,\"#f0f921\"]]}],\"surface\":[{\"type\":\"surface\",\"colorbar\":{\"outlinewidth\":0,\"ticks\":\"\"},\"colorscale\":[[0.0,\"#0d0887\"],[0.1111111111111111,\"#46039f\"],[0.2222222222222222,\"#7201a8\"],[0.3333333333333333,\"#9c179e\"],[0.4444444444444444,\"#bd3786\"],[0.5555555555555556,\"#d8576b\"],[0.6666666666666666,\"#ed7953\"],[0.7777777777777778,\"#fb9f3a\"],[0.8888888888888888,\"#fdca26\"],[1.0,\"#f0f921\"]]}],\"mesh3d\":[{\"type\":\"mesh3d\",\"colorbar\":{\"outlinewidth\":0,\"ticks\":\"\"}}],\"scatter\":[{\"fillpattern\":{\"fillmode\":\"overlay\",\"size\":10,\"solidity\":0.2},\"type\":\"scatter\"}],\"parcoords\":[{\"type\":\"parcoords\",\"line\":{\"colorbar\":{\"outlinewidth\":0,\"ticks\":\"\"}}}],\"scatterpolargl\":[{\"type\":\"scatterpolargl\",\"marker\":{\"colorbar\":{\"outlinewidth\":0,\"ticks\":\"\"}}}],\"bar\":[{\"error_x\":{\"color\":\"#2a3f5f\"},\"error_y\":{\"color\":\"#2a3f5f\"},\"marker\":{\"line\":{\"color\":\"#E5ECF6\",\"width\":0.5},\"pattern\":{\"fillmode\":\"overlay\",\"size\":10,\"solidity\":0.2}},\"type\":\"bar\"}],\"scattergeo\":[{\"type\":\"scattergeo\",\"marker\":{\"colorbar\":{\"outlinewidth\":0,\"ticks\":\"\"}}}],\"scatterpolar\":[{\"type\":\"scatterpolar\",\"marker\":{\"colorbar\":{\"outlinewidth\":0,\"ticks\":\"\"}}}],\"histogram\":[{\"marker\":{\"pattern\":{\"fillmode\":\"overlay\",\"size\":10,\"solidity\":0.2}},\"type\":\"histogram\"}],\"scattergl\":[{\"type\":\"scattergl\",\"marker\":{\"colorbar\":{\"outlinewidth\":0,\"ticks\":\"\"}}}],\"scatter3d\":[{\"type\":\"scatter3d\",\"line\":{\"colorbar\":{\"outlinewidth\":0,\"ticks\":\"\"}},\"marker\":{\"colorbar\":{\"outlinewidth\":0,\"ticks\":\"\"}}}],\"scattermapbox\":[{\"type\":\"scattermapbox\",\"marker\":{\"colorbar\":{\"outlinewidth\":0,\"ticks\":\"\"}}}],\"scatterternary\":[{\"type\":\"scatterternary\",\"marker\":{\"colorbar\":{\"outlinewidth\":0,\"ticks\":\"\"}}}],\"scattercarpet\":[{\"type\":\"scattercarpet\",\"marker\":{\"colorbar\":{\"outlinewidth\":0,\"ticks\":\"\"}}}],\"carpet\":[{\"aaxis\":{\"endlinecolor\":\"#2a3f5f\",\"gridcolor\":\"white\",\"linecolor\":\"white\",\"minorgridcolor\":\"white\",\"startlinecolor\":\"#2a3f5f\"},\"baxis\":{\"endlinecolor\":\"#2a3f5f\",\"gridcolor\":\"white\",\"linecolor\":\"white\",\"minorgridcolor\":\"white\",\"startlinecolor\":\"#2a3f5f\"},\"type\":\"carpet\"}],\"table\":[{\"cells\":{\"fill\":{\"color\":\"#EBF0F8\"},\"line\":{\"color\":\"white\"}},\"header\":{\"fill\":{\"color\":\"#C8D4E3\"},\"line\":{\"color\":\"white\"}},\"type\":\"table\"}],\"barpolar\":[{\"marker\":{\"line\":{\"color\":\"#E5ECF6\",\"width\":0.5},\"pattern\":{\"fillmode\":\"overlay\",\"size\":10,\"solidity\":0.2}},\"type\":\"barpolar\"}],\"pie\":[{\"automargin\":true,\"type\":\"pie\"}]},\"layout\":{\"autotypenumbers\":\"strict\",\"colorway\":[\"#636efa\",\"#EF553B\",\"#00cc96\",\"#ab63fa\",\"#FFA15A\",\"#19d3f3\",\"#FF6692\",\"#B6E880\",\"#FF97FF\",\"#FECB52\"],\"font\":{\"color\":\"#2a3f5f\"},\"hovermode\":\"closest\",\"hoverlabel\":{\"align\":\"left\"},\"paper_bgcolor\":\"white\",\"plot_bgcolor\":\"#E5ECF6\",\"polar\":{\"bgcolor\":\"#E5ECF6\",\"angularaxis\":{\"gridcolor\":\"white\",\"linecolor\":\"white\",\"ticks\":\"\"},\"radialaxis\":{\"gridcolor\":\"white\",\"linecolor\":\"white\",\"ticks\":\"\"}},\"ternary\":{\"bgcolor\":\"#E5ECF6\",\"aaxis\":{\"gridcolor\":\"white\",\"linecolor\":\"white\",\"ticks\":\"\"},\"baxis\":{\"gridcolor\":\"white\",\"linecolor\":\"white\",\"ticks\":\"\"},\"caxis\":{\"gridcolor\":\"white\",\"linecolor\":\"white\",\"ticks\":\"\"}},\"coloraxis\":{\"colorbar\":{\"outlinewidth\":0,\"ticks\":\"\"}},\"colorscale\":{\"sequential\":[[0.0,\"#0d0887\"],[0.1111111111111111,\"#46039f\"],[0.2222222222222222,\"#7201a8\"],[0.3333333333333333,\"#9c179e\"],[0.4444444444444444,\"#bd3786\"],[0.5555555555555556,\"#d8576b\"],[0.6666666666666666,\"#ed7953\"],[0.7777777777777778,\"#fb9f3a\"],[0.8888888888888888,\"#fdca26\"],[1.0,\"#f0f921\"]],\"sequentialminus\":[[0.0,\"#0d0887\"],[0.1111111111111111,\"#46039f\"],[0.2222222222222222,\"#7201a8\"],[0.3333333333333333,\"#9c179e\"],[0.4444444444444444,\"#bd3786\"],[0.5555555555555556,\"#d8576b\"],[0.6666666666666666,\"#ed7953\"],[0.7777777777777778,\"#fb9f3a\"],[0.8888888888888888,\"#fdca26\"],[1.0,\"#f0f921\"]],\"diverging\":[[0,\"#8e0152\"],[0.1,\"#c51b7d\"],[0.2,\"#de77ae\"],[0.3,\"#f1b6da\"],[0.4,\"#fde0ef\"],[0.5,\"#f7f7f7\"],[0.6,\"#e6f5d0\"],[0.7,\"#b8e186\"],[0.8,\"#7fbc41\"],[0.9,\"#4d9221\"],[1,\"#276419\"]]},\"xaxis\":{\"gridcolor\":\"white\",\"linecolor\":\"white\",\"ticks\":\"\",\"title\":{\"standoff\":15},\"zerolinecolor\":\"white\",\"automargin\":true,\"zerolinewidth\":2},\"yaxis\":{\"gridcolor\":\"white\",\"linecolor\":\"white\",\"ticks\":\"\",\"title\":{\"standoff\":15},\"zerolinecolor\":\"white\",\"automargin\":true,\"zerolinewidth\":2},\"scene\":{\"xaxis\":{\"backgroundcolor\":\"#E5ECF6\",\"gridcolor\":\"white\",\"linecolor\":\"white\",\"showbackground\":true,\"ticks\":\"\",\"zerolinecolor\":\"white\",\"gridwidth\":2},\"yaxis\":{\"backgroundcolor\":\"#E5ECF6\",\"gridcolor\":\"white\",\"linecolor\":\"white\",\"showbackground\":true,\"ticks\":\"\",\"zerolinecolor\":\"white\",\"gridwidth\":2},\"zaxis\":{\"backgroundcolor\":\"#E5ECF6\",\"gridcolor\":\"white\",\"linecolor\":\"white\",\"showbackground\":true,\"ticks\":\"\",\"zerolinecolor\":\"white\",\"gridwidth\":2}},\"shapedefaults\":{\"line\":{\"color\":\"#2a3f5f\"}},\"annotationdefaults\":{\"arrowcolor\":\"#2a3f5f\",\"arrowhead\":0,\"arrowwidth\":1},\"geo\":{\"bgcolor\":\"white\",\"landcolor\":\"#E5ECF6\",\"subunitcolor\":\"white\",\"showland\":true,\"showlakes\":true,\"lakecolor\":\"white\"},\"title\":{\"x\":0.05},\"mapbox\":{\"style\":\"light\"}}},\"mapbox\":{\"domain\":{\"x\":[0.0,1.0],\"y\":[0.0,1.0]},\"center\":{\"lat\":51.5074,\"lon\":-0.1278},\"zoom\":10,\"style\":\"carto-positron\"},\"legend\":{\"tracegroupgap\":0},\"title\":{\"text\":\"Random Coordinates on Greater London Map\"},\"margin\":{\"r\":0,\"t\":0,\"l\":0,\"b\":0}},                        {\"responsive\": true}                    ).then(function(){\n",
              "                            \n",
              "var gd = document.getElementById('d2a91237-0944-4760-8557-2c120ae81b3d');\n",
              "var x = new MutationObserver(function (mutations, observer) {{\n",
              "        var display = window.getComputedStyle(gd).display;\n",
              "        if (!display || display === 'none') {{\n",
              "            console.log([gd, 'removed!']);\n",
              "            Plotly.purge(gd);\n",
              "            observer.disconnect();\n",
              "        }}\n",
              "}});\n",
              "\n",
              "// Listen for the removal of the full notebook cells\n",
              "var notebookContainer = gd.closest('#notebook-container');\n",
              "if (notebookContainer) {{\n",
              "    x.observe(notebookContainer, {childList: true});\n",
              "}}\n",
              "\n",
              "// Listen for the clearing of the current output cell\n",
              "var outputEl = gd.closest('.output');\n",
              "if (outputEl) {{\n",
              "    x.observe(outputEl, {childList: true});\n",
              "}}\n",
              "\n",
              "                        })                };                            </script>        </div>\n",
              "</body>\n",
              "</html>"
            ]
          },
          "metadata": {}
        }
      ]
    },
    {
      "cell_type": "code",
      "source": [
        "import requests\n",
        "import json\n",
        "import pandas as pd\n",
        "import random\n",
        "from tabulate import tabulate\n",
        "\n",
        "def parse_journey_data(journey_data):\n",
        "    # Check if 'journeys' key is in the response\n",
        "    if 'journeys' not in journey_data or not journey_data['journeys']:\n",
        "        return None, None\n",
        "\n",
        "    shortest_duration = min(journey_data['journeys'], key=lambda x: x['duration'])['duration']\n",
        "    shortest_journey = next(j for j in journey_data['journeys'] if j['duration'] == shortest_duration)\n",
        "    transport_changes = len(shortest_journey['legs'])\n",
        "\n",
        "    return shortest_duration, transport_changes\n",
        "\n",
        "# DataFrame to store journey data\n",
        "journey_data_df = pd.DataFrame(columns=['Start Coordinate', 'Disabled Duration', 'Disabled Changes',\n",
        "                                        'Non-Disabled Duration', 'Non-Disabled Changes'])\n",
        "# Generate 50 random coordinates\n",
        "\n",
        "api_key = '97c709273afd48debc44e33e180d3d1c'\n",
        "\n",
        "for start_point in random_coordinates:\n",
        "\n",
        "    start_point = f\"{start_point[0]}, {start_point[1]}\"  #random point\n",
        "    end_point = '51.517327, -0.059259'  #royal hospital\n",
        "    url = f'https://api.tfl.gov.uk/Journey/JourneyResults/{start_point}/to/{end_point}'\n",
        "\n",
        "    # Define headers to include the API key\n",
        "    headers = {\n",
        "        'app_key': api_key,\n",
        "    }\n",
        "\n",
        "    # Make the request for a disabled person with full step-free access and tube preference\n",
        "    params_disabled = {\n",
        "        'accessibilityPreference': 'StepFreeToVehicle,StepFreeToPlatform',\n",
        "        'mode': 'tube'\n",
        "    }\n",
        "\n",
        "    # Make the request for a non-disabled person with tube preference\n",
        "    params_non_disabled = {\n",
        "        'mode': 'tube'\n",
        "    }\n",
        "\n",
        "    response_disabled = requests.get(url, headers=headers, params=params_disabled)\n",
        "    journey_disabled = response_disabled.json()\n",
        "\n",
        "    response_non_disabled = requests.get(url, headers=headers, params=params_non_disabled)\n",
        "    journey_non_disabled = response_non_disabled.json()\n",
        "\n",
        "    shortest_duration_disabled, transport_changes_disabled = parse_journey_data(journey_disabled)\n",
        "    shortest_duration_non_disabled, transport_changes_non_disabled = parse_journey_data(journey_non_disabled)\n",
        "\n",
        "    new_row = pd.DataFrame([{\n",
        "    'Start Coordinate': start_point,\n",
        "    'Disabled Duration': shortest_duration_disabled,\n",
        "    'Disabled Changes': transport_changes_disabled,\n",
        "    'Non-Disabled Duration': shortest_duration_non_disabled,\n",
        "    'Non-Disabled Changes': transport_changes_non_disabled\n",
        "    }])\n",
        "    journey_data_df = pd.concat([journey_data_df, new_row], ignore_index=True)\n",
        "\n",
        "# Replace None values with a specific placeholder (e.g., 'N/A')\n",
        "\n",
        "journey_data_df = journey_data_df.dropna()\n",
        "print(tabulate(journey_data_df, headers='keys', tablefmt='pretty'))\n",
        "\n"
      ],
      "metadata": {
        "colab": {
          "base_uri": "https://localhost:8080/"
        },
        "id": "YR9yoZ1w0tHY",
        "outputId": "7a480b13-b96e-45b9-a18b-dfe77854a2c4"
      },
      "execution_count": 159,
      "outputs": [
        {
          "output_type": "stream",
          "name": "stdout",
          "text": [
            "+----+------------------------------------------+-------------------+------------------+-----------------------+----------------------+\n",
            "|    |             Start Coordinate             | Disabled Duration | Disabled Changes | Non-Disabled Duration | Non-Disabled Changes |\n",
            "+----+------------------------------------------+-------------------+------------------+-----------------------+----------------------+\n",
            "| 1  | 51.58898760308353, -0.16678005011357064  |        104        |        4         |          56           |          5           |\n",
            "| 2  | 51.49869066292579, -0.22974098501212067  |        62         |        3         |          59           |          3           |\n",
            "| 4  | 51.595707298913815, -0.2874715855782733  |        84         |        5         |          64           |          5           |\n",
            "| 5  |  51.58217751386228, -0.2026307725954527  |        96         |        4         |          68           |          5           |\n",
            "| 6  |  51.51370487106405, 0.03049199440862338  |        70         |        4         |          58           |          4           |\n",
            "| 10 | 51.56005458143361, -0.11780566386695038  |        65         |        4         |          55           |          4           |\n",
            "| 11 | 51.51169019259631, -0.31323504758358817  |        79         |        3         |          75           |          5           |\n",
            "| 12 |  51.4811617821297, -0.2681783274806081   |        107        |        4         |          81           |          3           |\n",
            "| 15 | 51.463545310289724, -0.2163822859483801  |        90         |        4         |          63           |          4           |\n",
            "| 16 |  51.4427027399955, -0.24688241418485746  |        105        |        3         |          103          |          3           |\n",
            "| 20 |  51.58950748766145, 0.11784321545561022  |        173        |        4         |          82           |          4           |\n",
            "| 21 | 51.575425946585675, -0.20578302066941176 |        95         |        4         |          60           |          5           |\n",
            "| 22 |  51.56756292273875, 0.08270678758681066  |        155        |        7         |          57           |          4           |\n",
            "| 23 |  51.53287962037225, 0.03245572984324946  |        59         |        3         |          34           |          3           |\n",
            "| 25 |  51.56695751033443, 0.1448044695707642   |        85         |        3         |          83           |          3           |\n",
            "| 32 | 51.44395109237756, -0.20743692930655225  |        59         |        4         |          57           |          4           |\n",
            "| 34 | 51.58440837292035, -0.08933983629273307  |        95         |        4         |          62           |          4           |\n",
            "| 36 | 51.451424232498105, -0.27328083505196327 |        120        |        3         |          118          |          3           |\n",
            "| 37 | 51.43515991806726, -0.23385893207796732  |        92         |        3         |          90           |          3           |\n",
            "| 40 | 51.587651664645975, -0.2832657086205984  |        68         |        5         |          66           |          5           |\n",
            "| 41 | 51.455970913295225, -0.2453730076242458  |        115        |        4         |          103          |          3           |\n",
            "| 43 | 51.438653990024946, -0.2181374733239254  |        75         |        3         |          73           |          3           |\n",
            "| 44 |  51.57189985036393, 0.06550249382668794  |        164        |        4         |          43           |          4           |\n",
            "| 45 | 51.58247182462841, -0.21944420118128946  |        80         |        4         |          68           |          5           |\n",
            "| 46 | 51.473940840395244, -0.24523122856057922 |        91         |        3         |          88           |          3           |\n",
            "| 54 | 51.589748624248514, -0.2310388170174215  |        90         |        4         |          79           |          5           |\n",
            "| 56 | 51.508882906666116, 0.028559787085194133 |        69         |        4         |          57           |          4           |\n",
            "| 57 |  51.52327997767621, 0.02292325366530551  |        52         |        3         |          42           |          3           |\n",
            "| 58 |  51.56139253910133, 0.05954990001445326  |        86         |        3         |          63           |          4           |\n",
            "| 60 | 51.43905245452928, -0.17437777840203741  |        101        |        3         |          65           |          5           |\n",
            "| 61 |  51.51593641330208, -0.3159480626800345  |        81         |        3         |          77           |          4           |\n",
            "| 63 | 51.487951798661925, -0.31801624488067076 |        120        |        3         |          80           |          4           |\n",
            "| 64 |  51.4573160937548, -0.21050266653227348  |        81         |        4         |          59           |          4           |\n",
            "| 66 |  51.56478531524188, -0.2944693717609754  |        77         |        4         |          65           |          4           |\n",
            "| 67 | 51.558008054600286, 0.04949946548540107  |        71         |        3         |          66           |          3           |\n",
            "| 68 |  51.4639848770207, -0.23023848109600892  |        106        |        3         |          77           |          4           |\n",
            "| 69 | 51.57619180897039, -0.12047720372071963  |        78         |        4         |          67           |          4           |\n",
            "| 72 | 51.51711952536382, 0.026566067922467906  |        61         |        4         |          51           |          4           |\n",
            "| 74 |  51.53110510868599, 0.05705564874466884  |        49         |        3         |          45           |          3           |\n",
            "| 75 |  51.509179496969026, -0.307078866168494  |        76         |        3         |          72           |          5           |\n",
            "| 78 | 51.56764642127864, -0.04057901085195159  |        99         |        1         |          97           |          4           |\n",
            "| 84 |  51.57665201646427, 0.08342109352283505  |        148        |        7         |          50           |          4           |\n",
            "| 94 | 51.469273900093775, -0.2306666473343999  |        101        |        3         |          77           |          4           |\n",
            "| 97 | 51.439249320308306, -0.28678967628072377 |        117        |        3         |          114          |          3           |\n",
            "| 98 | 51.56104831057567, -0.32015225289456334  |        113        |        5         |          88           |          4           |\n",
            "+----+------------------------------------------+-------------------+------------------+-----------------------+----------------------+\n"
          ]
        }
      ]
    }
  ]
}
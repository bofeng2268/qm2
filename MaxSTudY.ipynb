{
  "nbformat": 4,
  "nbformat_minor": 0,
  "metadata": {
    "colab": {
      "provenance": [],
      "include_colab_link": true
    },
    "kernelspec": {
      "name": "python3",
      "display_name": "Python 3"
    },
    "language_info": {
      "name": "python"
    }
  },
  "cells": [
    {
      "cell_type": "markdown",
      "metadata": {
        "id": "view-in-github",
        "colab_type": "text"
      },
      "source": [
        "<a href=\"https://colab.research.google.com/github/bofeng2268/qm2/blob/main/MaxSTudY.ipynb\" target=\"_parent\"><img src=\"https://colab.research.google.com/assets/colab-badge.svg\" alt=\"Open In Colab\"/></a>"
      ]
    },
    {
      "cell_type": "code",
      "execution_count": 1,
      "metadata": {
        "id": "6LIBWxR4yBj7",
        "colab": {
          "base_uri": "https://localhost:8080/"
        },
        "outputId": "3ad27f56-a6b8-4ed6-edab-33ede94d60c4"
      },
      "outputs": [
        {
          "output_type": "stream",
          "name": "stdout",
          "text": [
            "Requirement already satisfied: pandas in /usr/local/lib/python3.10/dist-packages (1.5.3)\n",
            "Requirement already satisfied: python-dateutil>=2.8.1 in /usr/local/lib/python3.10/dist-packages (from pandas) (2.8.2)\n",
            "Requirement already satisfied: pytz>=2020.1 in /usr/local/lib/python3.10/dist-packages (from pandas) (2023.3.post1)\n",
            "Requirement already satisfied: numpy>=1.21.0 in /usr/local/lib/python3.10/dist-packages (from pandas) (1.23.5)\n",
            "Requirement already satisfied: six>=1.5 in /usr/local/lib/python3.10/dist-packages (from python-dateutil>=2.8.1->pandas) (1.16.0)\n",
            "Requirement already satisfied: geopandas in /usr/local/lib/python3.10/dist-packages (0.13.2)\n",
            "Requirement already satisfied: fiona>=1.8.19 in /usr/local/lib/python3.10/dist-packages (from geopandas) (1.9.5)\n",
            "Requirement already satisfied: packaging in /usr/local/lib/python3.10/dist-packages (from geopandas) (23.2)\n",
            "Requirement already satisfied: pandas>=1.1.0 in /usr/local/lib/python3.10/dist-packages (from geopandas) (1.5.3)\n",
            "Requirement already satisfied: pyproj>=3.0.1 in /usr/local/lib/python3.10/dist-packages (from geopandas) (3.6.1)\n",
            "Requirement already satisfied: shapely>=1.7.1 in /usr/local/lib/python3.10/dist-packages (from geopandas) (2.0.2)\n",
            "Requirement already satisfied: attrs>=19.2.0 in /usr/local/lib/python3.10/dist-packages (from fiona>=1.8.19->geopandas) (23.2.0)\n",
            "Requirement already satisfied: certifi in /usr/local/lib/python3.10/dist-packages (from fiona>=1.8.19->geopandas) (2023.11.17)\n",
            "Requirement already satisfied: click~=8.0 in /usr/local/lib/python3.10/dist-packages (from fiona>=1.8.19->geopandas) (8.1.7)\n",
            "Requirement already satisfied: click-plugins>=1.0 in /usr/local/lib/python3.10/dist-packages (from fiona>=1.8.19->geopandas) (1.1.1)\n",
            "Requirement already satisfied: cligj>=0.5 in /usr/local/lib/python3.10/dist-packages (from fiona>=1.8.19->geopandas) (0.7.2)\n",
            "Requirement already satisfied: six in /usr/local/lib/python3.10/dist-packages (from fiona>=1.8.19->geopandas) (1.16.0)\n",
            "Requirement already satisfied: setuptools in /usr/local/lib/python3.10/dist-packages (from fiona>=1.8.19->geopandas) (67.7.2)\n",
            "Requirement already satisfied: python-dateutil>=2.8.1 in /usr/local/lib/python3.10/dist-packages (from pandas>=1.1.0->geopandas) (2.8.2)\n",
            "Requirement already satisfied: pytz>=2020.1 in /usr/local/lib/python3.10/dist-packages (from pandas>=1.1.0->geopandas) (2023.3.post1)\n",
            "Requirement already satisfied: numpy>=1.21.0 in /usr/local/lib/python3.10/dist-packages (from pandas>=1.1.0->geopandas) (1.23.5)\n",
            "Requirement already satisfied: plotly in /usr/local/lib/python3.10/dist-packages (5.15.0)\n",
            "Requirement already satisfied: tenacity>=6.2.0 in /usr/local/lib/python3.10/dist-packages (from plotly) (8.2.3)\n",
            "Requirement already satisfied: packaging in /usr/local/lib/python3.10/dist-packages (from plotly) (23.2)\n"
          ]
        }
      ],
      "source": [
        "!pip install pandas\n",
        "!pip install geopandas\n",
        "!pip install plotly"
      ]
    },
    {
      "cell_type": "code",
      "source": [
        "\n",
        "import pandas as pd\n",
        "import plotly\n",
        "import plotly.express as px\n",
        "import matplotlib.pyplot as plt\n",
        "import geopandas as gpd\n",
        "import requests\n",
        "import json"
      ],
      "metadata": {
        "id": "ZDy8SBx8DMKm"
      },
      "execution_count": 2,
      "outputs": []
    },
    {
      "cell_type": "code",
      "source": [
        "# Paths to the files with Raw GitHub URLs\n",
        "csv_file_path = 'https://raw.githubusercontent.com/Maxbruel/QM2/main/notebooks/FinalPOPSPREADandSCOREDATASET.csv'\n",
        "topojson_file_path = 'https://raw.githubusercontent.com/bofeng2268/qm2/main/Phenomena/Local%20Authority%20Disability/topo_lad.json'\n",
        "local_authorities_file_path = 'https://raw.githubusercontent.com/Maxbruel/QM2/main/notebooks/Local%20Authorities%20London.csv'"
      ],
      "metadata": {
        "id": "OA6Km48zDcFT"
      },
      "execution_count": 16,
      "outputs": []
    },
    {
      "cell_type": "code",
      "source": [
        "csvdatastuff = pd.read_csv(csv_file_path, delimiter=';')\n",
        "local_authorities = pd.read_csv(local_authorities_file_path)\n"
      ],
      "metadata": {
        "id": "GHGbCNZSEIv8"
      },
      "execution_count": 42,
      "outputs": []
    },
    {
      "cell_type": "code",
      "source": [
        "\n",
        "# Read the CSV file into a DataFrame\n",
        "local_authorities_df = pd.read_csv(local_authorities_file_path, delimiter=';')\n",
        "\n",
        "# Output the column names to ensure 'Feature_Name' is a valid column\n",
        "print(local_authorities_df.columns)\n",
        "\n",
        "\n"
      ],
      "metadata": {
        "colab": {
          "base_uri": "https://localhost:8080/"
        },
        "id": "PeTqeLcTLA5x",
        "outputId": "945dfa46-7a02-4268-f8e4-cd5fc822d3c5"
      },
      "execution_count": 43,
      "outputs": [
        {
          "output_type": "stream",
          "name": "stdout",
          "text": [
            "Index(['Feature Identifier,Feature Name'], dtype='object')\n"
          ]
        }
      ]
    },
    {
      "cell_type": "code",
      "source": [
        "\n",
        "merged_data = pd.merge(local_authorities, csvdatastuff, left_on='Feature Name', right_on='Local Authority')"
      ],
      "metadata": {
        "id": "UZGAP2fTOw8k"
      },
      "execution_count": 44,
      "outputs": []
    },
    {
      "cell_type": "code",
      "source": [
        "# Load the TopoJSON file from the URL\n",
        "response = requests.get(topojson_file_path)\n",
        "topojson_data = response.json()\n",
        "gdf = gpd.read_file(json.dumps(topojson_data), layer='lad')\n"
      ],
      "metadata": {
        "id": "8p0dyR45P9AD"
      },
      "execution_count": 45,
      "outputs": []
    },
    {
      "cell_type": "code",
      "source": [
        "# Merge the GeoDataFrame with the merged data\n",
        "final_merged_data = gdf.merge(merged_data, left_on='LAD13NM', right_on='Feature Name')\n",
        "\n",
        "print(final_merged_data)\n"
      ],
      "metadata": {
        "id": "jjKDChjqR7GI",
        "outputId": "41189ec7-39a0-43eb-bc2a-636a70d04de8",
        "colab": {
          "base_uri": "https://localhost:8080/"
        }
      },
      "execution_count": 46,
      "outputs": [
        {
          "output_type": "stream",
          "name": "stdout",
          "text": [
            "           id    LAD13CD LAD13CDO                 LAD13NM LAD13NMW  \\\n",
            "0   E09000002  E09000002     00AB    Barking and Dagenham     None   \n",
            "1   E09000003  E09000003     00AC                  Barnet     None   \n",
            "2   E09000004  E09000004     00AD                  Bexley     None   \n",
            "3   E09000005  E09000005     00AE                   Brent     None   \n",
            "4   E09000006  E09000006     00AF                 Bromley     None   \n",
            "5   E09000007  E09000007     00AG                  Camden     None   \n",
            "6   E09000008  E09000008     00AH                 Croydon     None   \n",
            "7   E09000009  E09000009     00AJ                  Ealing     None   \n",
            "8   E09000010  E09000010     00AK                 Enfield     None   \n",
            "9   E09000011  E09000011     00AL               Greenwich     None   \n",
            "10  E09000012  E09000012     00AM                 Hackney     None   \n",
            "11  E09000013  E09000013     00AN  Hammersmith and Fulham     None   \n",
            "12  E09000014  E09000014     00AP                Haringey     None   \n",
            "13  E09000015  E09000015     00AQ                  Harrow     None   \n",
            "14  E09000016  E09000016     00AR                Havering     None   \n",
            "15  E09000017  E09000017     00AS              Hillingdon     None   \n",
            "16  E09000018  E09000018     00AT                Hounslow     None   \n",
            "17  E09000019  E09000019     00AU               Islington     None   \n",
            "18  E09000020  E09000020     00AW  Kensington and Chelsea     None   \n",
            "19  E09000021  E09000021     00AX    Kingston upon Thames     None   \n",
            "20  E09000022  E09000022     00AY                 Lambeth     None   \n",
            "21  E09000023  E09000023     00AZ                Lewisham     None   \n",
            "22  E09000024  E09000024     00BA                  Merton     None   \n",
            "23  E09000025  E09000025     00BB                  Newham     None   \n",
            "24  E09000026  E09000026     00BC               Redbridge     None   \n",
            "25  E09000027  E09000027     00BD    Richmond upon Thames     None   \n",
            "26  E09000028  E09000028     00BE               Southwark     None   \n",
            "27  E09000029  E09000029     00BF                  Sutton     None   \n",
            "28  E09000030  E09000030     00BG           Tower Hamlets     None   \n",
            "29  E09000031  E09000031     00BH          Waltham Forest     None   \n",
            "30  E09000032  E09000032     00BJ              Wandsworth     None   \n",
            "31  E09000033  E09000033     00BK             Westminster     None   \n",
            "\n",
            "                                             geometry  \\\n",
            "0   MULTIPOLYGON (((0.07327 51.52929, 0.07245 51.5...   \n",
            "1   POLYGON ((-0.18201 51.66845, -0.18611 51.66310...   \n",
            "2   MULTIPOLYGON (((0.19928 51.45852, 0.19928 51.4...   \n",
            "3   POLYGON ((-0.26711 51.60065, -0.25975 51.59411...   \n",
            "4   POLYGON ((0.07573 51.43176, 0.08309 51.42998, ...   \n",
            "5   POLYGON ((-0.14274 51.56914, -0.14028 51.56438...   \n",
            "6   POLYGON ((-0.07892 51.41987, -0.08137 51.41689...   \n",
            "7   POLYGON ((-0.24665 51.53286, -0.24665 51.53167...   \n",
            "8   POLYGON ((-0.01182 51.68094, -0.01100 51.68094...   \n",
            "9   MULTIPOLYGON (((-0.01673 51.48053, -0.01755 51...   \n",
            "10  POLYGON ((-0.06092 51.57806, -0.05846 51.57270...   \n",
            "11  POLYGON ((-0.22865 51.53048, -0.22865 51.52989...   \n",
            "12  POLYGON ((-0.04128 51.60541, -0.04373 51.60303...   \n",
            "13  POLYGON ((-0.26711 51.60065, -0.27120 51.59828...   \n",
            "14  POLYGON ((0.31301 51.56557, 0.31547 51.55784, ...   \n",
            "15  POLYGON ((-0.40375 51.61314, -0.40294 51.60898...   \n",
            "16  MULTIPOLYGON (((-0.32030 51.46744, -0.32111 51...   \n",
            "17  POLYGON ((-0.10428 51.56497, -0.09856 51.56081...   \n",
            "18  POLYGON ((-0.21638 51.52810, -0.21556 51.52691...   \n",
            "19  POLYGON ((-0.24011 51.38954, -0.23847 51.38597...   \n",
            "20  POLYGON ((-0.10919 51.50848, -0.10837 51.50669...   \n",
            "21  POLYGON ((-0.03228 51.49302, -0.02901 51.48826...   \n",
            "22  POLYGON ((-0.14028 51.41927, -0.14356 51.41749...   \n",
            "23  POLYGON ((0.06836 51.54416, 0.06673 51.54059, ...   \n",
            "24  POLYGON ((0.13791 51.62325, 0.14446 51.61671, ...   \n",
            "25  MULTIPOLYGON (((-0.32111 51.44603, -0.32520 51...   \n",
            "26  POLYGON ((-0.03228 51.49302, -0.03719 51.49242...   \n",
            "27  POLYGON ((-0.13456 51.39073, -0.13292 51.39013...   \n",
            "28  POLYGON ((-0.01673 51.54356, -0.01591 51.54237...   \n",
            "29  POLYGON ((0.02172 51.62861, 0.02091 51.62920, ...   \n",
            "30  POLYGON ((-0.14028 51.41927, -0.14438 51.41749...   \n",
            "31  POLYGON ((-0.11165 51.51561, -0.11083 51.51383...   \n",
            "\n",
            "                                   Feature Identifier            Feature Name  \\\n",
            "0   http://opendatacommunities.org/id/geography/ad...    Barking and Dagenham   \n",
            "1   http://opendatacommunities.org/id/geography/ad...                  Barnet   \n",
            "2   http://opendatacommunities.org/id/geography/ad...                  Bexley   \n",
            "3   http://opendatacommunities.org/id/geography/ad...                   Brent   \n",
            "4   http://opendatacommunities.org/id/geography/ad...                 Bromley   \n",
            "5   http://opendatacommunities.org/id/geography/ad...                  Camden   \n",
            "6   http://opendatacommunities.org/id/geography/ad...                 Croydon   \n",
            "7   http://opendatacommunities.org/id/geography/ad...                  Ealing   \n",
            "8   http://opendatacommunities.org/id/geography/ad...                 Enfield   \n",
            "9   http://opendatacommunities.org/id/geography/ad...               Greenwich   \n",
            "10  http://opendatacommunities.org/id/geography/ad...                 Hackney   \n",
            "11  http://opendatacommunities.org/id/geography/ad...  Hammersmith and Fulham   \n",
            "12  http://opendatacommunities.org/id/geography/ad...                Haringey   \n",
            "13  http://opendatacommunities.org/id/geography/ad...                  Harrow   \n",
            "14  http://opendatacommunities.org/id/geography/ad...                Havering   \n",
            "15  http://opendatacommunities.org/id/geography/ad...              Hillingdon   \n",
            "16  http://opendatacommunities.org/id/geography/ad...                Hounslow   \n",
            "17  http://opendatacommunities.org/id/geography/ad...               Islington   \n",
            "18  http://opendatacommunities.org/id/geography/ad...  Kensington and Chelsea   \n",
            "19  http://opendatacommunities.org/id/geography/ad...    Kingston upon Thames   \n",
            "20  http://opendatacommunities.org/id/geography/ad...                 Lambeth   \n",
            "21  http://opendatacommunities.org/id/geography/ad...                Lewisham   \n",
            "22  http://opendatacommunities.org/id/geography/ad...                  Merton   \n",
            "23  http://opendatacommunities.org/id/geography/ad...                  Newham   \n",
            "24  http://opendatacommunities.org/id/geography/ad...               Redbridge   \n",
            "25  http://opendatacommunities.org/id/geography/ad...    Richmond upon Thames   \n",
            "26  http://opendatacommunities.org/id/geography/ad...               Southwark   \n",
            "27  http://opendatacommunities.org/id/geography/ad...                  Sutton   \n",
            "28  http://opendatacommunities.org/id/geography/ad...           Tower Hamlets   \n",
            "29  http://opendatacommunities.org/id/geography/ad...          Waltham Forest   \n",
            "30  http://opendatacommunities.org/id/geography/ad...              Wandsworth   \n",
            "31  http://opendatacommunities.org/id/geography/ad...             Westminster   \n",
            "\n",
            "           Local Authority  Population Spread Score (/100)  \\\n",
            "0     Barking and Dagenham                            2.50   \n",
            "1                   Barnet                            4.30   \n",
            "2                   Bexley                            3.00   \n",
            "3                    Brent                            3.42   \n",
            "4                  Bromley                            4.00   \n",
            "5                   Camden                            2.80   \n",
            "6                  Croydon                            4.60   \n",
            "7                   Ealing                            3.80   \n",
            "8                  Enfield                            3.70   \n",
            "9                Greenwich                            3.50   \n",
            "10                 Hackney                            3.50   \n",
            "11  Hammersmith and Fulham                            2.00   \n",
            "12                Haringey                            3.01   \n",
            "13                  Harrow                            2.60   \n",
            "14                Havering                            3.50   \n",
            "15              Hillingdon                            3.50   \n",
            "16                Hounslow                            2.80   \n",
            "17               Islington                            3.00   \n",
            "18  Kensington and Chelsea                            1.60   \n",
            "19    Kingston upon Thames                            2.00   \n",
            "20                 Lambeth                            3.50   \n",
            "21                Lewisham                            3.80   \n",
            "22                  Merton                            2.30   \n",
            "23                  Newham                            3.60   \n",
            "24               Redbridge                            3.20   \n",
            "25    Richmond upon Thames                            2.00   \n",
            "26               Southwark                            3.70   \n",
            "27                  Sutton                            2.50   \n",
            "28           Tower Hamlets                            3.40   \n",
            "29          Waltham Forest                            3.10   \n",
            "30              Wandsworth                            3.11   \n",
            "31             Westminster                            2.50   \n",
            "\n",
            "    Normalized accesibility score (/100)  \n",
            "0                              44.416667  \n",
            "1                              52.416667  \n",
            "2                              61.083333  \n",
            "3                              41.083333  \n",
            "4                              59.000000  \n",
            "5                              59.583333  \n",
            "6                              60.500000  \n",
            "7                              57.666667  \n",
            "8                              45.333333  \n",
            "9                              65.416667  \n",
            "10                             54.750000  \n",
            "11                             66.666667  \n",
            "12                             47.750000  \n",
            "13                             38.916667  \n",
            "14                             65.000000  \n",
            "15                             54.750000  \n",
            "16                             43.750000  \n",
            "17                             45.833333  \n",
            "18                             50.000000  \n",
            "19                             46.666667  \n",
            "20                             58.333333  \n",
            "21                             62.083333  \n",
            "22                             43.166667  \n",
            "23                             62.500000  \n",
            "24                             75.000000  \n",
            "25                             48.833333  \n",
            "26                             51.416667  \n",
            "27                             59.250000  \n",
            "28                             51.666667  \n",
            "29                             47.916667  \n",
            "30                             58.333333  \n",
            "31                             69.083333  \n"
          ]
        }
      ]
    },
    {
      "cell_type": "code",
      "source": [
        "# Create a choropleth map using Plotly\n",
        "fig = px.choropleth_mapbox(final_merged_data,\n",
        "                           geojson=final_merged_data.geometry,\n",
        "                           locations=final_merged_data.index,\n",
        "                           color='Observation',\n",
        "                           hover_name='Feature Name',\n",
        "                           mapbox_style=\"carto-positron\",\n",
        "                           zoom=5, center = {\"lat\": 52.3555, \"lon\": -1.1743},\n",
        "                           opacity=0.5)\n",
        "\n",
        "# Update layout\n",
        "fig.update_layout(margin={\"r\":0,\"t\":0,\"l\":0,\"b\":0})\n",
        "\n",
        "# Display the map\n",
        "fig.show()"
      ],
      "metadata": {
        "id": "1srcNTTrWiWb",
        "outputId": "6be1804d-e93c-4e32-eca0-0a43bc30c156",
        "colab": {
          "base_uri": "https://localhost:8080/",
          "height": 500
        }
      },
      "execution_count": 50,
      "outputs": [
        {
          "output_type": "error",
          "ename": "ValueError",
          "evalue": "Value of 'color' is not the name of a column in 'data_frame'. Expected one of ['id', 'LAD13CD', 'LAD13CDO', 'LAD13NM', 'LAD13NMW', 'geometry', 'Feature Identifier', 'Feature Name', 'Local Authority', 'Population Spread Score (/100)', 'Normalized accesibility score (/100)'] but received: Observation",
          "traceback": [
            "\u001b[0;31m---------------------------------------------------------------------------\u001b[0m",
            "\u001b[0;31mValueError\u001b[0m                                Traceback (most recent call last)",
            "\u001b[0;32m<ipython-input-50-9c0bca226b44>\u001b[0m in \u001b[0;36m<cell line: 2>\u001b[0;34m()\u001b[0m\n\u001b[1;32m      1\u001b[0m \u001b[0;31m# Create a choropleth map using Plotly\u001b[0m\u001b[0;34m\u001b[0m\u001b[0;34m\u001b[0m\u001b[0m\n\u001b[0;32m----> 2\u001b[0;31m fig = px.choropleth_mapbox(final_merged_data,\n\u001b[0m\u001b[1;32m      3\u001b[0m                            \u001b[0mgeojson\u001b[0m\u001b[0;34m=\u001b[0m\u001b[0mfinal_merged_data\u001b[0m\u001b[0;34m.\u001b[0m\u001b[0mgeometry\u001b[0m\u001b[0;34m,\u001b[0m\u001b[0;34m\u001b[0m\u001b[0;34m\u001b[0m\u001b[0m\n\u001b[1;32m      4\u001b[0m                            \u001b[0mlocations\u001b[0m\u001b[0;34m=\u001b[0m\u001b[0mfinal_merged_data\u001b[0m\u001b[0;34m.\u001b[0m\u001b[0mindex\u001b[0m\u001b[0;34m,\u001b[0m\u001b[0;34m\u001b[0m\u001b[0;34m\u001b[0m\u001b[0m\n\u001b[1;32m      5\u001b[0m                            \u001b[0mcolor\u001b[0m\u001b[0;34m=\u001b[0m\u001b[0;34m'Observation'\u001b[0m\u001b[0;34m,\u001b[0m\u001b[0;34m\u001b[0m\u001b[0;34m\u001b[0m\u001b[0m\n",
            "\u001b[0;32m/usr/local/lib/python3.10/dist-packages/plotly/express/_chart_types.py\u001b[0m in \u001b[0;36mchoropleth_mapbox\u001b[0;34m(data_frame, geojson, featureidkey, locations, color, hover_name, hover_data, custom_data, animation_frame, animation_group, category_orders, labels, color_discrete_sequence, color_discrete_map, color_continuous_scale, range_color, color_continuous_midpoint, opacity, zoom, center, mapbox_style, title, template, width, height)\u001b[0m\n\u001b[1;32m   1282\u001b[0m     \u001b[0mcolored\u001b[0m \u001b[0mregion\u001b[0m \u001b[0mon\u001b[0m \u001b[0ma\u001b[0m \u001b[0mMapbox\u001b[0m \u001b[0mmap\u001b[0m\u001b[0;34m.\u001b[0m\u001b[0;34m\u001b[0m\u001b[0;34m\u001b[0m\u001b[0m\n\u001b[1;32m   1283\u001b[0m     \"\"\"\n\u001b[0;32m-> 1284\u001b[0;31m     \u001b[0;32mreturn\u001b[0m \u001b[0mmake_figure\u001b[0m\u001b[0;34m(\u001b[0m\u001b[0margs\u001b[0m\u001b[0;34m=\u001b[0m\u001b[0mlocals\u001b[0m\u001b[0;34m(\u001b[0m\u001b[0;34m)\u001b[0m\u001b[0;34m,\u001b[0m \u001b[0mconstructor\u001b[0m\u001b[0;34m=\u001b[0m\u001b[0mgo\u001b[0m\u001b[0;34m.\u001b[0m\u001b[0mChoroplethmapbox\u001b[0m\u001b[0;34m)\u001b[0m\u001b[0;34m\u001b[0m\u001b[0;34m\u001b[0m\u001b[0m\n\u001b[0m\u001b[1;32m   1285\u001b[0m \u001b[0;34m\u001b[0m\u001b[0m\n\u001b[1;32m   1286\u001b[0m \u001b[0;34m\u001b[0m\u001b[0m\n",
            "\u001b[0;32m/usr/local/lib/python3.10/dist-packages/plotly/express/_core.py\u001b[0m in \u001b[0;36mmake_figure\u001b[0;34m(args, constructor, trace_patch, layout_patch)\u001b[0m\n\u001b[1;32m   2001\u001b[0m     \u001b[0mapply_default_cascade\u001b[0m\u001b[0;34m(\u001b[0m\u001b[0margs\u001b[0m\u001b[0;34m)\u001b[0m\u001b[0;34m\u001b[0m\u001b[0;34m\u001b[0m\u001b[0m\n\u001b[1;32m   2002\u001b[0m \u001b[0;34m\u001b[0m\u001b[0m\n\u001b[0;32m-> 2003\u001b[0;31m     \u001b[0margs\u001b[0m \u001b[0;34m=\u001b[0m \u001b[0mbuild_dataframe\u001b[0m\u001b[0;34m(\u001b[0m\u001b[0margs\u001b[0m\u001b[0;34m,\u001b[0m \u001b[0mconstructor\u001b[0m\u001b[0;34m)\u001b[0m\u001b[0;34m\u001b[0m\u001b[0;34m\u001b[0m\u001b[0m\n\u001b[0m\u001b[1;32m   2004\u001b[0m     \u001b[0;32mif\u001b[0m \u001b[0mconstructor\u001b[0m \u001b[0;32min\u001b[0m \u001b[0;34m[\u001b[0m\u001b[0mgo\u001b[0m\u001b[0;34m.\u001b[0m\u001b[0mTreemap\u001b[0m\u001b[0;34m,\u001b[0m \u001b[0mgo\u001b[0m\u001b[0;34m.\u001b[0m\u001b[0mSunburst\u001b[0m\u001b[0;34m,\u001b[0m \u001b[0mgo\u001b[0m\u001b[0;34m.\u001b[0m\u001b[0mIcicle\u001b[0m\u001b[0;34m]\u001b[0m \u001b[0;32mand\u001b[0m \u001b[0margs\u001b[0m\u001b[0;34m[\u001b[0m\u001b[0;34m\"path\"\u001b[0m\u001b[0;34m]\u001b[0m \u001b[0;32mis\u001b[0m \u001b[0;32mnot\u001b[0m \u001b[0;32mNone\u001b[0m\u001b[0;34m:\u001b[0m\u001b[0;34m\u001b[0m\u001b[0;34m\u001b[0m\u001b[0m\n\u001b[1;32m   2005\u001b[0m         \u001b[0margs\u001b[0m \u001b[0;34m=\u001b[0m \u001b[0mprocess_dataframe_hierarchy\u001b[0m\u001b[0;34m(\u001b[0m\u001b[0margs\u001b[0m\u001b[0;34m)\u001b[0m\u001b[0;34m\u001b[0m\u001b[0;34m\u001b[0m\u001b[0m\n",
            "\u001b[0;32m/usr/local/lib/python3.10/dist-packages/plotly/express/_core.py\u001b[0m in \u001b[0;36mbuild_dataframe\u001b[0;34m(args, constructor)\u001b[0m\n\u001b[1;32m   1410\u001b[0m     \u001b[0;31m# now that things have been prepped, we do the systematic rewriting of `args`\u001b[0m\u001b[0;34m\u001b[0m\u001b[0;34m\u001b[0m\u001b[0m\n\u001b[1;32m   1411\u001b[0m \u001b[0;34m\u001b[0m\u001b[0m\n\u001b[0;32m-> 1412\u001b[0;31m     df_output, wide_id_vars = process_args_into_dataframe(\n\u001b[0m\u001b[1;32m   1413\u001b[0m         \u001b[0margs\u001b[0m\u001b[0;34m,\u001b[0m \u001b[0mwide_mode\u001b[0m\u001b[0;34m,\u001b[0m \u001b[0mvar_name\u001b[0m\u001b[0;34m,\u001b[0m \u001b[0mvalue_name\u001b[0m\u001b[0;34m\u001b[0m\u001b[0;34m\u001b[0m\u001b[0m\n\u001b[1;32m   1414\u001b[0m     )\n",
            "\u001b[0;32m/usr/local/lib/python3.10/dist-packages/plotly/express/_core.py\u001b[0m in \u001b[0;36mprocess_args_into_dataframe\u001b[0;34m(args, wide_mode, var_name, value_name)\u001b[0m\n\u001b[1;32m   1206\u001b[0m                         \u001b[0;32mif\u001b[0m \u001b[0margument\u001b[0m \u001b[0;34m==\u001b[0m \u001b[0;34m\"index\"\u001b[0m\u001b[0;34m:\u001b[0m\u001b[0;34m\u001b[0m\u001b[0;34m\u001b[0m\u001b[0m\n\u001b[1;32m   1207\u001b[0m                             \u001b[0merr_msg\u001b[0m \u001b[0;34m+=\u001b[0m \u001b[0;34m\"\\n To use the index, pass it in directly as `df.index`.\"\u001b[0m\u001b[0;34m\u001b[0m\u001b[0;34m\u001b[0m\u001b[0m\n\u001b[0;32m-> 1208\u001b[0;31m                         \u001b[0;32mraise\u001b[0m \u001b[0mValueError\u001b[0m\u001b[0;34m(\u001b[0m\u001b[0merr_msg\u001b[0m\u001b[0;34m)\u001b[0m\u001b[0;34m\u001b[0m\u001b[0;34m\u001b[0m\u001b[0m\n\u001b[0m\u001b[1;32m   1209\u001b[0m                 \u001b[0;32melif\u001b[0m \u001b[0mlength\u001b[0m \u001b[0;32mand\u001b[0m \u001b[0mlen\u001b[0m\u001b[0;34m(\u001b[0m\u001b[0mdf_input\u001b[0m\u001b[0;34m[\u001b[0m\u001b[0margument\u001b[0m\u001b[0;34m]\u001b[0m\u001b[0;34m)\u001b[0m \u001b[0;34m!=\u001b[0m \u001b[0mlength\u001b[0m\u001b[0;34m:\u001b[0m\u001b[0;34m\u001b[0m\u001b[0;34m\u001b[0m\u001b[0m\n\u001b[1;32m   1210\u001b[0m                     raise ValueError(\n",
            "\u001b[0;31mValueError\u001b[0m: Value of 'color' is not the name of a column in 'data_frame'. Expected one of ['id', 'LAD13CD', 'LAD13CDO', 'LAD13NM', 'LAD13NMW', 'geometry', 'Feature Identifier', 'Feature Name', 'Local Authority', 'Population Spread Score (/100)', 'Normalized accesibility score (/100)'] but received: Observation"
          ]
        }
      ]
    }
  ]
}